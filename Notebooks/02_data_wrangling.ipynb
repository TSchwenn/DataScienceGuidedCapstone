{
 "cells": [
  {
   "cell_type": "markdown",
   "metadata": {},
   "source": [
    "# 2 Data wrangling<a id='2_Data_wrangling'></a>"
   ]
  },
  {
   "cell_type": "markdown",
   "metadata": {},
   "source": [
    "## 2.1 Contents<a id='2.1_Contents'></a>\n",
    "* [2 Data wrangling](#2_Data_wrangling)\n",
    "  * [2.1 Contents](#2.1_Contents)\n",
    "  * [2.2 Introduction](#2.2_Introduction)\n",
    "    * [2.2.1 Recap Of Data Science Problem](#2.2.1_Recap_Of_Data_Science_Problem)\n",
    "    * [2.2.2 Introduction To Notebook](#2.2.2_Introduction_To_Notebook)\n",
    "  * [2.3 Imports](#2.3_Imports)\n",
    "  * [2.4 Objectives](#2.4_Objectives)\n",
    "  * [2.5 Load The Ski Resort Data](#2.5_Load_The_Ski_Resort_Data)\n",
    "  * [2.6 Explore The Data](#2.6_Explore_The_Data)\n",
    "    * [2.6.1 Find Your Resort Of Interest](#2.6.1_Find_Your_Resort_Of_Interest)\n",
    "    * [2.6.2 Number Of Missing Values By Column](#2.6.2_Number_Of_Missing_Values_By_Column)\n",
    "    * [2.6.3 Categorical Features](#2.6.3_Categorical_Features)\n",
    "      * [2.6.3.1 Unique Resort Names](#2.6.3.1_Unique_Resort_Names)\n",
    "      * [2.6.3.2 Region And State](#2.6.3.2_Region_And_State)\n",
    "      * [2.6.3.3 Number of distinct regions and states](#2.6.3.3_Number_of_distinct_regions_and_states)\n",
    "      * [2.6.3.4 Distribution Of Resorts By Region And State](#2.6.3.4_Distribution_Of_Resorts_By_Region_And_State)\n",
    "      * [2.6.3.5 Distribution Of Ticket Price By State](#2.6.3.5_Distribution_Of_Ticket_Price_By_State)\n",
    "        * [2.6.3.5.1 Average weekend and weekday price by state](#2.6.3.5.1_Average_weekend_and_weekday_price_by_state)\n",
    "        * [2.6.3.5.2 Distribution of weekday and weekend price by state](#2.6.3.5.2_Distribution_of_weekday_and_weekend_price_by_state)\n",
    "    * [2.6.4 Numeric Features](#2.6.4_Numeric_Features)\n",
    "      * [2.6.4.1 Numeric data summary](#2.6.4.1_Numeric_data_summary)\n",
    "      * [2.6.4.2 Distributions Of Feature Values](#2.6.4.2_Distributions_Of_Feature_Values)\n",
    "        * [2.6.4.2.1 SkiableTerrain_ac](#2.6.4.2.1_SkiableTerrain_ac)\n",
    "        * [2.6.4.2.2 Snow Making_ac](#2.6.4.2.2_Snow_Making_ac)\n",
    "        * [2.6.4.2.3 fastEight](#2.6.4.2.3_fastEight)\n",
    "        * [2.6.4.2.4 fastSixes and Trams](#2.6.4.2.4_fastSixes_and_Trams)\n",
    "  * [2.7 Derive State-wide Summary Statistics For Our Market Segment](#2.7_Derive_State-wide_Summary_Statistics_For_Our_Market_Segment)\n",
    "  * [2.8 Drop Rows With No Price Data](#2.8_Drop_Rows_With_No_Price_Data)\n",
    "  * [2.9 Review distributions](#2.9_Review_distributions)\n",
    "  * [2.10 Population data](#2.10_Population_data)\n",
    "  * [2.11 Target Feature](#2.11_Target_Feature)\n",
    "    * [2.11.1 Number Of Missing Values By Row - Resort](#2.11.1_Number_Of_Missing_Values_By_Row_-_Resort)\n",
    "  * [2.12 Save data](#2.12_Save_data)\n",
    "  * [2.13 Summary](#2.13_Summary)\n"
   ]
  },
  {
   "cell_type": "markdown",
   "metadata": {},
   "source": [
    "## 2.2 Introduction<a id='2.2_Introduction'></a>"
   ]
  },
  {
   "cell_type": "markdown",
   "metadata": {},
   "source": [
    "This step focuses on collecting your data, organizing it, and making sure it's well defined. Paying attention to these tasks will pay off greatly later on. Some data cleaning can be done at this stage, but it's important not to be overzealous in your cleaning before you've explored the data to better understand it."
   ]
  },
  {
   "cell_type": "markdown",
   "metadata": {},
   "source": [
    "### 2.2.1 Recap Of Data Science Problem<a id='2.2.1_Recap_Of_Data_Science_Problem'></a>"
   ]
  },
  {
   "cell_type": "markdown",
   "metadata": {},
   "source": [
    "The purpose of this data science project is to come up with a pricing model for ski resort tickets in our market segment. Big Mountain suspects it may not be maximizing its returns, relative to its position in the market. It also does not have a strong sense of what facilities matter most to visitors, particularly which ones they're most likely to pay more for. This project aims to build a predictive model for ticket price based on a number of facilities, or properties, boasted by resorts (*at the resorts).* \n",
    "This model will be used to provide guidance for Big Mountain's pricing and future facility investment plans."
   ]
  },
  {
   "cell_type": "markdown",
   "metadata": {},
   "source": [
    "### 2.2.2 Introduction To Notebook<a id='2.2.2_Introduction_To_Notebook'></a>"
   ]
  },
  {
   "cell_type": "markdown",
   "metadata": {},
   "source": [
    "Notebooks grow organically as we explore our data. If you used paper notebooks, you could discover a mistake and cross out or revise some earlier work. Later work may give you a reason to revisit earlier work and explore it further. The great thing about Jupyter notebooks is that you can edit, add, and move cells around without needing to cross out figures or scrawl in the margin. However, this means you can lose track of your changes easily. If you worked in a regulated environment, the company may have a a policy of always dating entries and clearly crossing out any mistakes, with your initials and the date.\n",
    "\n",
    "**Best practice here is to commit your changes using a version control system such as Git.** Try to get into the habit of adding and committing your files to the Git repository you're working in after you save them. You're are working in a Git repository, right? If you make a significant change, save the notebook and commit it to Git. In fact, if you're about to make a significant change, it's a good idea to commit before as well. Then if the change is a mess, you've got the previous version to go back to.\n",
    "\n",
    "**Another best practice with notebooks is to try to keep them organized with helpful headings and comments.** Not only can a good structure, but associated headings help you keep track of what you've done and your current focus. Anyone reading your notebook will have a much easier time following the flow of work. Remember, that 'anyone' will most likely be you. Be kind to future you!\n",
    "\n",
    "In this notebook, note how we try to use well structured, helpful headings that frequently are self-explanatory, and we make a brief note after any results to highlight key takeaways. This is an immense help to anyone reading your notebook and it will greatly help you when you come to summarise your findings. **Top tip: jot down key findings in a final summary at the end of the notebook as they arise. You can tidy this up later.** This is a great way to ensure important results don't get lost in the middle of your notebooks."
   ]
  },
  {
   "cell_type": "markdown",
   "metadata": {},
   "source": [
    "In this, and subsequent notebooks, there are coding tasks marked with `#Code task n#` with code to complete. The `___` will guide you to where you need to insert code."
   ]
  },
  {
   "cell_type": "markdown",
   "metadata": {},
   "source": [
    "## 2.3 Imports<a id='2.3_Imports'></a>"
   ]
  },
  {
   "cell_type": "markdown",
   "metadata": {},
   "source": [
    "Placing your imports all together at the start of your notebook means you only need to consult one place to check your notebook's dependencies. By all means import something 'in situ' later on when you're experimenting, but if the imported dependency ends up being kept, you should subsequently move the import statement here with the rest."
   ]
  },
  {
   "cell_type": "code",
   "execution_count": 1,
   "metadata": {
    "ExecuteTime": {
     "end_time": "2023-11-10T14:55:59.315553Z",
     "start_time": "2023-11-10T14:55:59.313233Z"
    }
   },
   "outputs": [],
   "source": [
    "#Code task 1#\n",
    "#Import pandas, matplotlib.pyplot, and seaborn in the correct lines below\n",
    "import pandas as pd\n",
    "import matplotlib.pyplot as plt\n",
    "import seaborn as sns\n",
    "import os\n",
    "\n",
    "from library.sb_utils import save_file\n"
   ]
  },
  {
   "cell_type": "markdown",
   "metadata": {},
   "source": [
    "## 2.4 Objectives<a id='2.4_Objectives'></a>"
   ]
  },
  {
   "cell_type": "markdown",
   "metadata": {},
   "source": [
    "There are some fundamental questions to resolve in this notebook before you move on.\n",
    "\n",
    "* Do you think you may have the data you need to tackle the desired question?\n",
    "    * Have you identified the required target value?\n",
    "    * Do you have potentially useful features?\n",
    "* Do you have any fundamental issues with the data?"
   ]
  },
  {
   "cell_type": "markdown",
   "metadata": {},
   "source": [
    "## 2.5 Load The Ski Resort Data<a id='2.5_Load_The_Ski_Resort_Data'></a>"
   ]
  },
  {
   "cell_type": "code",
   "execution_count": 2,
   "metadata": {
    "ExecuteTime": {
     "end_time": "2023-11-10T14:56:06.999774Z",
     "start_time": "2023-11-10T14:56:06.986865Z"
    }
   },
   "outputs": [],
   "source": [
    "# the supplied CSV data file is the raw_data directory\n",
    "ski_data = pd.read_csv('../raw_data/ski_resort_data.csv')"
   ]
  },
  {
   "cell_type": "markdown",
   "metadata": {},
   "source": [
    "Good first steps in auditing the data are the info method and displaying the first few records with head."
   ]
  },
  {
   "cell_type": "code",
   "execution_count": 3,
   "metadata": {
    "ExecuteTime": {
     "end_time": "2023-11-10T14:56:09.204169Z",
     "start_time": "2023-11-10T14:56:09.184787Z"
    }
   },
   "outputs": [
    {
     "name": "stdout",
     "output_type": "stream",
     "text": [
      "<class 'pandas.core.frame.DataFrame'>\n",
      "RangeIndex: 330 entries, 0 to 329\n",
      "Data columns (total 27 columns):\n",
      " #   Column             Non-Null Count  Dtype  \n",
      "---  ------             --------------  -----  \n",
      " 0   Name               330 non-null    object \n",
      " 1   Region             330 non-null    object \n",
      " 2   state              330 non-null    object \n",
      " 3   summit_elev        330 non-null    int64  \n",
      " 4   vertical_drop      330 non-null    int64  \n",
      " 5   base_elev          330 non-null    int64  \n",
      " 6   trams              330 non-null    int64  \n",
      " 7   fastEight          164 non-null    float64\n",
      " 8   fastSixes          330 non-null    int64  \n",
      " 9   fastQuads          330 non-null    int64  \n",
      " 10  quad               330 non-null    int64  \n",
      " 11  triple             330 non-null    int64  \n",
      " 12  double             330 non-null    int64  \n",
      " 13  surface            330 non-null    int64  \n",
      " 14  total_chairs       330 non-null    int64  \n",
      " 15  Runs               326 non-null    float64\n",
      " 16  TerrainParks       279 non-null    float64\n",
      " 17  LongestRun_mi      325 non-null    float64\n",
      " 18  SkiableTerrain_ac  327 non-null    float64\n",
      " 19  Snow Making_ac     284 non-null    float64\n",
      " 20  daysOpenLastYear   279 non-null    float64\n",
      " 21  yearsOpen          329 non-null    float64\n",
      " 22  averageSnowfall    316 non-null    float64\n",
      " 23  AdultWeekday       276 non-null    float64\n",
      " 24  AdultWeekend       279 non-null    float64\n",
      " 25  projectedDaysOpen  283 non-null    float64\n",
      " 26  NightSkiing_ac     187 non-null    float64\n",
      "dtypes: float64(13), int64(11), object(3)\n",
      "memory usage: 69.7+ KB\n"
     ]
    }
   ],
   "source": [
    "#Code task 2#\n",
    "#Call the info method on ski_data to see a summary of the data\n",
    "ski_data.info()"
   ]
  },
  {
   "cell_type": "markdown",
   "metadata": {},
   "source": [
    "`AdultWeekday` is the price of an adult weekday ticket. `AdultWeekend` is the price of an adult weekend ticket. The other columns are potential features."
   ]
  },
  {
   "cell_type": "markdown",
   "metadata": {},
   "source": [
    "This immediately raises the question of what quantity will you want to model? You know you want to model the ticket price, but you realise there are two kinds of ticket price!"
   ]
  },
  {
   "cell_type": "code",
   "execution_count": 4,
   "metadata": {
    "scrolled": true,
    "ExecuteTime": {
     "end_time": "2023-11-10T14:56:11.490469Z",
     "start_time": "2023-11-10T14:56:11.465133Z"
    }
   },
   "outputs": [
    {
     "data": {
      "text/plain": "                  Name   Region    state  summit_elev  vertical_drop  \\\n0       Alyeska Resort   Alaska   Alaska         3939           2500   \n1  Eaglecrest Ski Area   Alaska   Alaska         2600           1540   \n2     Hilltop Ski Area   Alaska   Alaska         2090            294   \n3     Arizona Snowbowl  Arizona  Arizona        11500           2300   \n4  Sunrise Park Resort  Arizona  Arizona        11100           1800   \n\n   base_elev  trams  fastEight  fastSixes  fastQuads  ...  LongestRun_mi  \\\n0        250      1        0.0          0          2  ...            1.0   \n1       1200      0        0.0          0          0  ...            2.0   \n2       1796      0        0.0          0          0  ...            1.0   \n3       9200      0        0.0          1          0  ...            2.0   \n4       9200      0        NaN          0          1  ...            1.2   \n\n   SkiableTerrain_ac  Snow Making_ac  daysOpenLastYear  yearsOpen  \\\n0             1610.0           113.0             150.0       60.0   \n1              640.0            60.0              45.0       44.0   \n2               30.0            30.0             150.0       36.0   \n3              777.0           104.0             122.0       81.0   \n4              800.0            80.0             115.0       49.0   \n\n   averageSnowfall  AdultWeekday  AdultWeekend  projectedDaysOpen  \\\n0            669.0          65.0          85.0              150.0   \n1            350.0          47.0          53.0               90.0   \n2             69.0          30.0          34.0              152.0   \n3            260.0          89.0          89.0              122.0   \n4            250.0          74.0          78.0              104.0   \n\n   NightSkiing_ac  \n0           550.0  \n1             NaN  \n2            30.0  \n3             NaN  \n4            80.0  \n\n[5 rows x 27 columns]",
      "text/html": "<div>\n<style scoped>\n    .dataframe tbody tr th:only-of-type {\n        vertical-align: middle;\n    }\n\n    .dataframe tbody tr th {\n        vertical-align: top;\n    }\n\n    .dataframe thead th {\n        text-align: right;\n    }\n</style>\n<table border=\"1\" class=\"dataframe\">\n  <thead>\n    <tr style=\"text-align: right;\">\n      <th></th>\n      <th>Name</th>\n      <th>Region</th>\n      <th>state</th>\n      <th>summit_elev</th>\n      <th>vertical_drop</th>\n      <th>base_elev</th>\n      <th>trams</th>\n      <th>fastEight</th>\n      <th>fastSixes</th>\n      <th>fastQuads</th>\n      <th>...</th>\n      <th>LongestRun_mi</th>\n      <th>SkiableTerrain_ac</th>\n      <th>Snow Making_ac</th>\n      <th>daysOpenLastYear</th>\n      <th>yearsOpen</th>\n      <th>averageSnowfall</th>\n      <th>AdultWeekday</th>\n      <th>AdultWeekend</th>\n      <th>projectedDaysOpen</th>\n      <th>NightSkiing_ac</th>\n    </tr>\n  </thead>\n  <tbody>\n    <tr>\n      <th>0</th>\n      <td>Alyeska Resort</td>\n      <td>Alaska</td>\n      <td>Alaska</td>\n      <td>3939</td>\n      <td>2500</td>\n      <td>250</td>\n      <td>1</td>\n      <td>0.0</td>\n      <td>0</td>\n      <td>2</td>\n      <td>...</td>\n      <td>1.0</td>\n      <td>1610.0</td>\n      <td>113.0</td>\n      <td>150.0</td>\n      <td>60.0</td>\n      <td>669.0</td>\n      <td>65.0</td>\n      <td>85.0</td>\n      <td>150.0</td>\n      <td>550.0</td>\n    </tr>\n    <tr>\n      <th>1</th>\n      <td>Eaglecrest Ski Area</td>\n      <td>Alaska</td>\n      <td>Alaska</td>\n      <td>2600</td>\n      <td>1540</td>\n      <td>1200</td>\n      <td>0</td>\n      <td>0.0</td>\n      <td>0</td>\n      <td>0</td>\n      <td>...</td>\n      <td>2.0</td>\n      <td>640.0</td>\n      <td>60.0</td>\n      <td>45.0</td>\n      <td>44.0</td>\n      <td>350.0</td>\n      <td>47.0</td>\n      <td>53.0</td>\n      <td>90.0</td>\n      <td>NaN</td>\n    </tr>\n    <tr>\n      <th>2</th>\n      <td>Hilltop Ski Area</td>\n      <td>Alaska</td>\n      <td>Alaska</td>\n      <td>2090</td>\n      <td>294</td>\n      <td>1796</td>\n      <td>0</td>\n      <td>0.0</td>\n      <td>0</td>\n      <td>0</td>\n      <td>...</td>\n      <td>1.0</td>\n      <td>30.0</td>\n      <td>30.0</td>\n      <td>150.0</td>\n      <td>36.0</td>\n      <td>69.0</td>\n      <td>30.0</td>\n      <td>34.0</td>\n      <td>152.0</td>\n      <td>30.0</td>\n    </tr>\n    <tr>\n      <th>3</th>\n      <td>Arizona Snowbowl</td>\n      <td>Arizona</td>\n      <td>Arizona</td>\n      <td>11500</td>\n      <td>2300</td>\n      <td>9200</td>\n      <td>0</td>\n      <td>0.0</td>\n      <td>1</td>\n      <td>0</td>\n      <td>...</td>\n      <td>2.0</td>\n      <td>777.0</td>\n      <td>104.0</td>\n      <td>122.0</td>\n      <td>81.0</td>\n      <td>260.0</td>\n      <td>89.0</td>\n      <td>89.0</td>\n      <td>122.0</td>\n      <td>NaN</td>\n    </tr>\n    <tr>\n      <th>4</th>\n      <td>Sunrise Park Resort</td>\n      <td>Arizona</td>\n      <td>Arizona</td>\n      <td>11100</td>\n      <td>1800</td>\n      <td>9200</td>\n      <td>0</td>\n      <td>NaN</td>\n      <td>0</td>\n      <td>1</td>\n      <td>...</td>\n      <td>1.2</td>\n      <td>800.0</td>\n      <td>80.0</td>\n      <td>115.0</td>\n      <td>49.0</td>\n      <td>250.0</td>\n      <td>74.0</td>\n      <td>78.0</td>\n      <td>104.0</td>\n      <td>80.0</td>\n    </tr>\n  </tbody>\n</table>\n<p>5 rows × 27 columns</p>\n</div>"
     },
     "execution_count": 4,
     "metadata": {},
     "output_type": "execute_result"
    }
   ],
   "source": [
    "#Code task 3#\n",
    "#Call the head method on ski_data to print the first several rows of the data\n",
    "ski_data.head()"
   ]
  },
  {
   "cell_type": "markdown",
   "metadata": {},
   "source": [
    "The output above suggests you've made a good start getting the ski resort data organized. You have plausible column headings. You can already see you have a missing value in the `fastEight` column."
   ]
  },
  {
   "cell_type": "markdown",
   "source": [
    "## 2.6 Explore The Data<a id='2.6_Explore_The_Data'></a>"
   ],
   "metadata": {
    "collapsed": false
   }
  },
  {
   "cell_type": "markdown",
   "metadata": {},
   "source": [
    "### 2.6.1 Find Your Resort Of Interest<a id='2.6.1_Find_Your_Resort_Of_Interest'></a>"
   ]
  },
  {
   "cell_type": "markdown",
   "metadata": {},
   "source": [
    "Your resort of interest is called Big Mountain Resort. Check it's in the data:"
   ]
  },
  {
   "cell_type": "code",
   "execution_count": 5,
   "metadata": {
    "ExecuteTime": {
     "end_time": "2023-11-10T14:56:15.170147Z",
     "start_time": "2023-11-10T14:56:15.147216Z"
    }
   },
   "outputs": [
    {
     "data": {
      "text/plain": "                                   151\nName               Big Mountain Resort\nRegion                         Montana\nstate                          Montana\nsummit_elev                       6817\nvertical_drop                     2353\nbase_elev                         4464\ntrams                                0\nfastEight                          0.0\nfastSixes                            0\nfastQuads                            3\nquad                                 2\ntriple                               6\ndouble                               0\nsurface                              3\ntotal_chairs                        14\nRuns                             105.0\nTerrainParks                       4.0\nLongestRun_mi                      3.3\nSkiableTerrain_ac               3000.0\nSnow Making_ac                   600.0\ndaysOpenLastYear                 123.0\nyearsOpen                         72.0\naverageSnowfall                  333.0\nAdultWeekday                      81.0\nAdultWeekend                      81.0\nprojectedDaysOpen                123.0\nNightSkiing_ac                   600.0",
      "text/html": "<div>\n<style scoped>\n    .dataframe tbody tr th:only-of-type {\n        vertical-align: middle;\n    }\n\n    .dataframe tbody tr th {\n        vertical-align: top;\n    }\n\n    .dataframe thead th {\n        text-align: right;\n    }\n</style>\n<table border=\"1\" class=\"dataframe\">\n  <thead>\n    <tr style=\"text-align: right;\">\n      <th></th>\n      <th>151</th>\n    </tr>\n  </thead>\n  <tbody>\n    <tr>\n      <th>Name</th>\n      <td>Big Mountain Resort</td>\n    </tr>\n    <tr>\n      <th>Region</th>\n      <td>Montana</td>\n    </tr>\n    <tr>\n      <th>state</th>\n      <td>Montana</td>\n    </tr>\n    <tr>\n      <th>summit_elev</th>\n      <td>6817</td>\n    </tr>\n    <tr>\n      <th>vertical_drop</th>\n      <td>2353</td>\n    </tr>\n    <tr>\n      <th>base_elev</th>\n      <td>4464</td>\n    </tr>\n    <tr>\n      <th>trams</th>\n      <td>0</td>\n    </tr>\n    <tr>\n      <th>fastEight</th>\n      <td>0.0</td>\n    </tr>\n    <tr>\n      <th>fastSixes</th>\n      <td>0</td>\n    </tr>\n    <tr>\n      <th>fastQuads</th>\n      <td>3</td>\n    </tr>\n    <tr>\n      <th>quad</th>\n      <td>2</td>\n    </tr>\n    <tr>\n      <th>triple</th>\n      <td>6</td>\n    </tr>\n    <tr>\n      <th>double</th>\n      <td>0</td>\n    </tr>\n    <tr>\n      <th>surface</th>\n      <td>3</td>\n    </tr>\n    <tr>\n      <th>total_chairs</th>\n      <td>14</td>\n    </tr>\n    <tr>\n      <th>Runs</th>\n      <td>105.0</td>\n    </tr>\n    <tr>\n      <th>TerrainParks</th>\n      <td>4.0</td>\n    </tr>\n    <tr>\n      <th>LongestRun_mi</th>\n      <td>3.3</td>\n    </tr>\n    <tr>\n      <th>SkiableTerrain_ac</th>\n      <td>3000.0</td>\n    </tr>\n    <tr>\n      <th>Snow Making_ac</th>\n      <td>600.0</td>\n    </tr>\n    <tr>\n      <th>daysOpenLastYear</th>\n      <td>123.0</td>\n    </tr>\n    <tr>\n      <th>yearsOpen</th>\n      <td>72.0</td>\n    </tr>\n    <tr>\n      <th>averageSnowfall</th>\n      <td>333.0</td>\n    </tr>\n    <tr>\n      <th>AdultWeekday</th>\n      <td>81.0</td>\n    </tr>\n    <tr>\n      <th>AdultWeekend</th>\n      <td>81.0</td>\n    </tr>\n    <tr>\n      <th>projectedDaysOpen</th>\n      <td>123.0</td>\n    </tr>\n    <tr>\n      <th>NightSkiing_ac</th>\n      <td>600.0</td>\n    </tr>\n  </tbody>\n</table>\n</div>"
     },
     "execution_count": 5,
     "metadata": {},
     "output_type": "execute_result"
    }
   ],
   "source": [
    "#Code task 4#\n",
    "#Filter the ski_data dataframe to display just the row for our resort with the name 'Big Mountain Resort'\n",
    "#Hint: you will find that the transpose of the row will give a nicer output. DataFrame's do have a\n",
    "#transpose method, but you can access this conveniently with the `T` property.\n",
    "ski_data[ski_data.Name == \"Big Mountain Resort\"].T"
   ]
  },
  {
   "cell_type": "markdown",
   "metadata": {},
   "source": [
    "It's good that your resort doesn't appear to have any missing values."
   ]
  },
  {
   "cell_type": "markdown",
   "metadata": {},
   "source": [
    "### 2.6.2 Number Of Missing Values By Column<a id='2.6.2_Number_Of_Missing_Values_By_Column'></a>"
   ]
  },
  {
   "cell_type": "markdown",
   "metadata": {},
   "source": [
    "Count the number of missing values in each column and sort them."
   ]
  },
  {
   "cell_type": "code",
   "execution_count": 6,
   "metadata": {
    "ExecuteTime": {
     "end_time": "2023-11-10T14:56:28.074716Z",
     "start_time": "2023-11-10T14:56:28.060705Z"
    }
   },
   "outputs": [],
   "source": [
    "#Code task 5#\n",
    "#Count (using `.sum()`) the number of missing values (`.isnull()`) in each column of \n",
    "#ski_data as well as the percentages (using `.mean()` instead of `.sum()`).\n",
    "#Order them (increasing or decreasing) using sort_values\n",
    "#Call `pd.concat` to present these in a single table (DataFrame) with the helpful column names 'count' and '%'\n",
    "missing = pd.concat([ski_data.isnull().sum(), 100 * ski_data.isnull().mean()], axis=1)\n",
    "missing.columns=[\"count\", \"%\"]\n",
    "missing.sort_values(by=\"%\", ascending=False);"
   ]
  },
  {
   "cell_type": "markdown",
   "metadata": {},
   "source": [
    "`fastEight` has the most missing values, at just over 50%. Unfortunately, you see you're also missing quite a few of your desired target quantity, the ticket price, which is missing 15-16% of values. `AdultWeekday` is missing in a few more records than `AdultWeekend`. What overlap is there in these missing values? This is a question you'll want to investigate. You should also point out that `isnull()` is not the only indicator of missing data. Sometimes 'missingness' can be encoded, perhaps by a -1 or 999. Such values are typically chosen because they are \"obviously\" not genuine values. If you were capturing data on people's heights and weights but missing someone's height, you could certainly encode that as a 0 because no one has a height of zero (in any units). Yet such entries would not be revealed by `isnull()`. Here, you need a data dictionary and/or to spot such values as part of looking for outliers. Someone with a height of zero should definitely show up as an outlier!"
   ]
  },
  {
   "cell_type": "code",
   "execution_count": 7,
   "outputs": [
    {
     "name": "stdout",
     "output_type": "stream",
     "text": [
      "Integer outliers (±2.5 std dev.):\n",
      "summit_elev [13050, 12510, 12998, 13010, 13487, 13150, 12481]\n",
      "vertical_drop [3500, 4406, 3340, 3398, 3668, 4425, 3450, 3400, 4350, 3430, 3365, 3690, 4139]\n",
      "base_elev [10780, 9600, 9712, 9375, 10800, 10790, 10400, 10500, 10300, 9820, 9600, 10350, 9600]\n",
      "trams [2, 3, 2, 3, 2, 2, 2, 2, 4, 3, 3, 2, 3]\n",
      "fastSixes [2, 2, 5, 2, 2, 3, 2, 2, 2, 2, 2, 6, 4, 2, 2]\n",
      "fastQuads [7, 9, 7, 15, 11, 6, 6, 6, 15, 7, 9, 8, 6, 13, 10, 6]\n",
      "quad [4, 5, 4, 5, 5, 4, 8, 5, 4, 4, 4, 5, 4, 5, 8, 4]\n",
      "triple [6, 7, 7, 6, 6, 6, 8, 7, 6, 7, 6, 6]\n",
      "double [6, 6, 6, 9, 14, 6, 6, 10, 6]\n",
      "surface [8, 9, 9, 15, 9, 8, 9, 8, 8, 12, 9]\n",
      "total_chairs [28, 25, 40, 24, 34, 24, 31, 25, 22, 36, 41, 22, 27]\n"
     ]
    }
   ],
   "source": [
    "print('Integer outliers (±2.5 std dev.):')\n",
    "for col in ski_data:\n",
    "    if ski_data[col].dtype == 'int64':\n",
    "        std = ski_data[col].std()\n",
    "        median = ski_data[col].median()\n",
    "        print(col, [x for x in ski_data[col] if abs(x - median) >= std*2.5])"
   ],
   "metadata": {
    "collapsed": false,
    "ExecuteTime": {
     "end_time": "2023-11-10T14:56:30.483790Z",
     "start_time": "2023-11-10T14:56:30.471251Z"
    }
   }
  },
  {
   "cell_type": "code",
   "execution_count": 8,
   "outputs": [
    {
     "name": "stdout",
     "output_type": "stream",
     "text": [
      "Floating-point outliers (±3 std dev.):\n",
      "fastEight [1.0]\n",
      "Runs [336.0, 187.0, 195.0, 317.0, 341.0]\n",
      "TerrainParks [14.0, 9.0, 10.0, 9.0, 10.0, 9.0]\n",
      "LongestRun_mi [5.5, 5.3, 6.0, 4.6, 4.9, 6.0, 5.0, 4.5, 6.0, 4.5]\n",
      "SkiableTerrain_ac [26819.0, 5800.0, 7300.0, 8464.0]\n",
      "Snow Making_ac [3379.0, 1500.0]\n",
      "daysOpenLastYear [243.0, 230.0, 305.0, 3.0]\n",
      "yearsOpen [2019.0]\n",
      "averageSnowfall [669.0, 663.0]\n",
      "AdultWeekday [149.0, 179.0, 158.0, 139.0, 135.0, 169.0]\n",
      "AdultWeekend [159.0, 179.0, 158.0, 139.0, 135.0, 169.0]\n",
      "projectedDaysOpen [233.0, 305.0]\n",
      "NightSkiing_ac [550.0, 600.0, 400.0, 650.0, 500.0, 450.0, 541.0]\n"
     ]
    }
   ],
   "source": [
    "print('Floating-point outliers (±3 std dev.):')\n",
    "for col in ski_data:\n",
    "    if ski_data[col].dtype == 'float64':\n",
    "        std = ski_data[col].std()\n",
    "        median = ski_data[col].median()\n",
    "        print(col, [x for x in ski_data[col] if abs(x - median) > std*3])"
   ],
   "metadata": {
    "collapsed": false,
    "ExecuteTime": {
     "end_time": "2023-11-10T14:56:31.706900Z",
     "start_time": "2023-11-10T14:56:31.692040Z"
    }
   }
  },
  {
   "cell_type": "markdown",
   "metadata": {},
   "source": [
    "### 2.6.3 Categorical Features<a id='2.6.3_Categorical_Features'></a>"
   ]
  },
  {
   "cell_type": "markdown",
   "metadata": {},
   "source": [
    "So far you've examined only the numeric features. Now you inspect categorical ones such as resort name and state. These are discrete entities. 'Alaska' is a name. Although names can be sorted alphabetically, it makes no sense to take the average of 'Alaska' and 'Arizona'. Similarly, 'Alaska' is before 'Arizona' only lexicographically; it is neither 'less than' nor 'greater than' 'Arizona'. As such, they tend to require different handling than strictly numeric quantities. Note, a feature _can_ be numeric but also categorical. For example, instead of giving the number of `fastEight` lifts, a feature might be `has_fastEights` and have the value 0 or 1 to denote absence or presence of such a lift. In such a case it would not make sense to take an average of this or perform other mathematical calculations on it. Although you digress a little to make a point, month numbers are also, strictly speaking, categorical features. Yes, when a month is represented by its number (1 for January, 2 for Februrary etc.) it provides a convenient way to graph trends over a year. And, arguably, there is some logical interpretation of the average of 1 and 3 (January and March) being 2 (February). However, clearly December of one years precedes January of the next and yet 12 as a number is not less than 1. The numeric quantities in the section above are truly numeric; they are the number of feet in the drop, or acres or years open or the amount of snowfall etc."
   ]
  },
  {
   "cell_type": "code",
   "execution_count": 9,
   "metadata": {
    "ExecuteTime": {
     "end_time": "2023-11-10T14:56:32.933116Z",
     "start_time": "2023-11-10T14:56:32.892997Z"
    }
   },
   "outputs": [
    {
     "data": {
      "text/plain": "                                  Name   Region    state\n0                       Alyeska Resort   Alaska   Alaska\n1                  Eaglecrest Ski Area   Alaska   Alaska\n2                     Hilltop Ski Area   Alaska   Alaska\n3                     Arizona Snowbowl  Arizona  Arizona\n4                  Sunrise Park Resort  Arizona  Arizona\n..                                 ...      ...      ...\n325               Meadowlark Ski Lodge  Wyoming  Wyoming\n326          Sleeping Giant Ski Resort  Wyoming  Wyoming\n327                   Snow King Resort  Wyoming  Wyoming\n328  Snowy Range Ski & Recreation Area  Wyoming  Wyoming\n329                White Pine Ski Area  Wyoming  Wyoming\n\n[330 rows x 3 columns]",
      "text/html": "<div>\n<style scoped>\n    .dataframe tbody tr th:only-of-type {\n        vertical-align: middle;\n    }\n\n    .dataframe tbody tr th {\n        vertical-align: top;\n    }\n\n    .dataframe thead th {\n        text-align: right;\n    }\n</style>\n<table border=\"1\" class=\"dataframe\">\n  <thead>\n    <tr style=\"text-align: right;\">\n      <th></th>\n      <th>Name</th>\n      <th>Region</th>\n      <th>state</th>\n    </tr>\n  </thead>\n  <tbody>\n    <tr>\n      <th>0</th>\n      <td>Alyeska Resort</td>\n      <td>Alaska</td>\n      <td>Alaska</td>\n    </tr>\n    <tr>\n      <th>1</th>\n      <td>Eaglecrest Ski Area</td>\n      <td>Alaska</td>\n      <td>Alaska</td>\n    </tr>\n    <tr>\n      <th>2</th>\n      <td>Hilltop Ski Area</td>\n      <td>Alaska</td>\n      <td>Alaska</td>\n    </tr>\n    <tr>\n      <th>3</th>\n      <td>Arizona Snowbowl</td>\n      <td>Arizona</td>\n      <td>Arizona</td>\n    </tr>\n    <tr>\n      <th>4</th>\n      <td>Sunrise Park Resort</td>\n      <td>Arizona</td>\n      <td>Arizona</td>\n    </tr>\n    <tr>\n      <th>...</th>\n      <td>...</td>\n      <td>...</td>\n      <td>...</td>\n    </tr>\n    <tr>\n      <th>325</th>\n      <td>Meadowlark Ski Lodge</td>\n      <td>Wyoming</td>\n      <td>Wyoming</td>\n    </tr>\n    <tr>\n      <th>326</th>\n      <td>Sleeping Giant Ski Resort</td>\n      <td>Wyoming</td>\n      <td>Wyoming</td>\n    </tr>\n    <tr>\n      <th>327</th>\n      <td>Snow King Resort</td>\n      <td>Wyoming</td>\n      <td>Wyoming</td>\n    </tr>\n    <tr>\n      <th>328</th>\n      <td>Snowy Range Ski &amp; Recreation Area</td>\n      <td>Wyoming</td>\n      <td>Wyoming</td>\n    </tr>\n    <tr>\n      <th>329</th>\n      <td>White Pine Ski Area</td>\n      <td>Wyoming</td>\n      <td>Wyoming</td>\n    </tr>\n  </tbody>\n</table>\n<p>330 rows × 3 columns</p>\n</div>"
     },
     "execution_count": 9,
     "metadata": {},
     "output_type": "execute_result"
    }
   ],
   "source": [
    "#Code task 6#\n",
    "#Use ski_data's `select_dtypes` method to select columns of dtype 'object'\n",
    "ski_data.select_dtypes(\"object\")"
   ]
  },
  {
   "cell_type": "markdown",
   "metadata": {},
   "source": [
    "You saw earlier on that these three columns had no missing values. But are there any other issues with these columns? Sensible questions to ask here include:\n",
    "\n",
    "* Is `Name` (or at least a combination of Name/Region/State) unique?"
   ]
  },
  {
   "cell_type": "code",
   "execution_count": 10,
   "outputs": [
    {
     "data": {
      "text/plain": "                 Name      Region       state\n104  Crystal Mountain    Michigan    Michigan\n295  Crystal Mountain  Washington  Washington",
      "text/html": "<div>\n<style scoped>\n    .dataframe tbody tr th:only-of-type {\n        vertical-align: middle;\n    }\n\n    .dataframe tbody tr th {\n        vertical-align: top;\n    }\n\n    .dataframe thead th {\n        text-align: right;\n    }\n</style>\n<table border=\"1\" class=\"dataframe\">\n  <thead>\n    <tr style=\"text-align: right;\">\n      <th></th>\n      <th>Name</th>\n      <th>Region</th>\n      <th>state</th>\n    </tr>\n  </thead>\n  <tbody>\n    <tr>\n      <th>104</th>\n      <td>Crystal Mountain</td>\n      <td>Michigan</td>\n      <td>Michigan</td>\n    </tr>\n    <tr>\n      <th>295</th>\n      <td>Crystal Mountain</td>\n      <td>Washington</td>\n      <td>Washington</td>\n    </tr>\n  </tbody>\n</table>\n</div>"
     },
     "execution_count": 10,
     "metadata": {},
     "output_type": "execute_result"
    }
   ],
   "source": [
    "ski_data.select_dtypes(\"object\")[ski_data.duplicated(subset=\"Name\", keep=False)]"
   ],
   "metadata": {
    "collapsed": false,
    "ExecuteTime": {
     "end_time": "2023-11-10T14:56:34.845871Z",
     "start_time": "2023-11-10T14:56:34.822114Z"
    }
   }
  },
  {
   "cell_type": "code",
   "execution_count": 11,
   "outputs": [
    {
     "data": {
      "text/plain": "Empty DataFrame\nColumns: [Name, Region, state, summit_elev, vertical_drop, base_elev, trams, fastEight, fastSixes, fastQuads, quad, triple, double, surface, total_chairs, Runs, TerrainParks, LongestRun_mi, SkiableTerrain_ac, Snow Making_ac, daysOpenLastYear, yearsOpen, averageSnowfall, AdultWeekday, AdultWeekend, projectedDaysOpen, NightSkiing_ac]\nIndex: []\n\n[0 rows x 27 columns]",
      "text/html": "<div>\n<style scoped>\n    .dataframe tbody tr th:only-of-type {\n        vertical-align: middle;\n    }\n\n    .dataframe tbody tr th {\n        vertical-align: top;\n    }\n\n    .dataframe thead th {\n        text-align: right;\n    }\n</style>\n<table border=\"1\" class=\"dataframe\">\n  <thead>\n    <tr style=\"text-align: right;\">\n      <th></th>\n      <th>Name</th>\n      <th>Region</th>\n      <th>state</th>\n      <th>summit_elev</th>\n      <th>vertical_drop</th>\n      <th>base_elev</th>\n      <th>trams</th>\n      <th>fastEight</th>\n      <th>fastSixes</th>\n      <th>fastQuads</th>\n      <th>...</th>\n      <th>LongestRun_mi</th>\n      <th>SkiableTerrain_ac</th>\n      <th>Snow Making_ac</th>\n      <th>daysOpenLastYear</th>\n      <th>yearsOpen</th>\n      <th>averageSnowfall</th>\n      <th>AdultWeekday</th>\n      <th>AdultWeekend</th>\n      <th>projectedDaysOpen</th>\n      <th>NightSkiing_ac</th>\n    </tr>\n  </thead>\n  <tbody>\n  </tbody>\n</table>\n<p>0 rows × 27 columns</p>\n</div>"
     },
     "execution_count": 11,
     "metadata": {},
     "output_type": "execute_result"
    }
   ],
   "source": [
    "ski_data[ski_data.duplicated(subset=[\"Name\", \"Region\", \"state\"], keep=False)]"
   ],
   "metadata": {
    "collapsed": false,
    "ExecuteTime": {
     "end_time": "2023-11-10T14:56:44.862287Z",
     "start_time": "2023-11-10T14:56:44.829046Z"
    }
   }
  },
  {
   "cell_type": "markdown",
   "source": [
    "* Is `Region` always the same as `state`?"
   ],
   "metadata": {
    "collapsed": false
   }
  },
  {
   "cell_type": "code",
   "execution_count": 12,
   "outputs": [
    {
     "data": {
      "text/plain": "                              Name               Region       state\n5    Yosemite Ski & Snowboard Area  Northern California  California\n6                    Bear Mountain        Sierra Nevada  California\n7                      Bear Valley        Sierra Nevada  California\n8           Boreal Mountain Resort        Sierra Nevada  California\n9                      Dodge Ridge        Sierra Nevada  California\n10                Donner Ski Ranch        Sierra Nevada  California\n11        Heavenly Mountain Resort        Sierra Nevada  California\n12                   June Mountain        Sierra Nevada  California\n13                        Kirkwood        Sierra Nevada  California\n14       Mammoth Mountain Ski Area        Sierra Nevada  California\n15             Mt. Shasta Ski Park        Sierra Nevada  California\n16                   Mountain High        Sierra Nevada  California\n17                       Mt. Baldy        Sierra Nevada  California\n18            Northstar California        Sierra Nevada  California\n19                 Sierra-at-Tahoe        Sierra Nevada  California\n20                  Ski China Peak        Sierra Nevada  California\n21                     Snow Summit        Sierra Nevada  California\n22                     Snow Valley        Sierra Nevada  California\n23                    Soda Springs        Sierra Nevada  California\n24               Sugar Bowl Resort        Sierra Nevada  California\n25                    Tahoe Donner        Sierra Nevada  California\n152                   Diamond Peak        Sierra Nevada      Nevada\n155           Mt. Rose - Ski Tahoe        Sierra Nevada      Nevada\n228                    Cooper Spur             Mt. Hood      Oregon\n232               Mt. Hood Meadows             Mt. Hood      Oregon\n233               Mt. Hood Skibowl             Mt. Hood      Oregon\n235               Timberline Lodge             Mt. Hood      Oregon\n260                  Alta Ski Area       Salt Lake City        Utah\n263                Brighton Resort       Salt Lake City        Utah\n264             Deer Valley Resort       Salt Lake City        Utah\n266                      Park City       Salt Lake City        Utah\n269                       Snowbird       Salt Lake City        Utah\n270       Solitude Mountain Resort       Salt Lake City        Utah",
      "text/html": "<div>\n<style scoped>\n    .dataframe tbody tr th:only-of-type {\n        vertical-align: middle;\n    }\n\n    .dataframe tbody tr th {\n        vertical-align: top;\n    }\n\n    .dataframe thead th {\n        text-align: right;\n    }\n</style>\n<table border=\"1\" class=\"dataframe\">\n  <thead>\n    <tr style=\"text-align: right;\">\n      <th></th>\n      <th>Name</th>\n      <th>Region</th>\n      <th>state</th>\n    </tr>\n  </thead>\n  <tbody>\n    <tr>\n      <th>5</th>\n      <td>Yosemite Ski &amp; Snowboard Area</td>\n      <td>Northern California</td>\n      <td>California</td>\n    </tr>\n    <tr>\n      <th>6</th>\n      <td>Bear Mountain</td>\n      <td>Sierra Nevada</td>\n      <td>California</td>\n    </tr>\n    <tr>\n      <th>7</th>\n      <td>Bear Valley</td>\n      <td>Sierra Nevada</td>\n      <td>California</td>\n    </tr>\n    <tr>\n      <th>8</th>\n      <td>Boreal Mountain Resort</td>\n      <td>Sierra Nevada</td>\n      <td>California</td>\n    </tr>\n    <tr>\n      <th>9</th>\n      <td>Dodge Ridge</td>\n      <td>Sierra Nevada</td>\n      <td>California</td>\n    </tr>\n    <tr>\n      <th>10</th>\n      <td>Donner Ski Ranch</td>\n      <td>Sierra Nevada</td>\n      <td>California</td>\n    </tr>\n    <tr>\n      <th>11</th>\n      <td>Heavenly Mountain Resort</td>\n      <td>Sierra Nevada</td>\n      <td>California</td>\n    </tr>\n    <tr>\n      <th>12</th>\n      <td>June Mountain</td>\n      <td>Sierra Nevada</td>\n      <td>California</td>\n    </tr>\n    <tr>\n      <th>13</th>\n      <td>Kirkwood</td>\n      <td>Sierra Nevada</td>\n      <td>California</td>\n    </tr>\n    <tr>\n      <th>14</th>\n      <td>Mammoth Mountain Ski Area</td>\n      <td>Sierra Nevada</td>\n      <td>California</td>\n    </tr>\n    <tr>\n      <th>15</th>\n      <td>Mt. Shasta Ski Park</td>\n      <td>Sierra Nevada</td>\n      <td>California</td>\n    </tr>\n    <tr>\n      <th>16</th>\n      <td>Mountain High</td>\n      <td>Sierra Nevada</td>\n      <td>California</td>\n    </tr>\n    <tr>\n      <th>17</th>\n      <td>Mt. Baldy</td>\n      <td>Sierra Nevada</td>\n      <td>California</td>\n    </tr>\n    <tr>\n      <th>18</th>\n      <td>Northstar California</td>\n      <td>Sierra Nevada</td>\n      <td>California</td>\n    </tr>\n    <tr>\n      <th>19</th>\n      <td>Sierra-at-Tahoe</td>\n      <td>Sierra Nevada</td>\n      <td>California</td>\n    </tr>\n    <tr>\n      <th>20</th>\n      <td>Ski China Peak</td>\n      <td>Sierra Nevada</td>\n      <td>California</td>\n    </tr>\n    <tr>\n      <th>21</th>\n      <td>Snow Summit</td>\n      <td>Sierra Nevada</td>\n      <td>California</td>\n    </tr>\n    <tr>\n      <th>22</th>\n      <td>Snow Valley</td>\n      <td>Sierra Nevada</td>\n      <td>California</td>\n    </tr>\n    <tr>\n      <th>23</th>\n      <td>Soda Springs</td>\n      <td>Sierra Nevada</td>\n      <td>California</td>\n    </tr>\n    <tr>\n      <th>24</th>\n      <td>Sugar Bowl Resort</td>\n      <td>Sierra Nevada</td>\n      <td>California</td>\n    </tr>\n    <tr>\n      <th>25</th>\n      <td>Tahoe Donner</td>\n      <td>Sierra Nevada</td>\n      <td>California</td>\n    </tr>\n    <tr>\n      <th>152</th>\n      <td>Diamond Peak</td>\n      <td>Sierra Nevada</td>\n      <td>Nevada</td>\n    </tr>\n    <tr>\n      <th>155</th>\n      <td>Mt. Rose - Ski Tahoe</td>\n      <td>Sierra Nevada</td>\n      <td>Nevada</td>\n    </tr>\n    <tr>\n      <th>228</th>\n      <td>Cooper Spur</td>\n      <td>Mt. Hood</td>\n      <td>Oregon</td>\n    </tr>\n    <tr>\n      <th>232</th>\n      <td>Mt. Hood Meadows</td>\n      <td>Mt. Hood</td>\n      <td>Oregon</td>\n    </tr>\n    <tr>\n      <th>233</th>\n      <td>Mt. Hood Skibowl</td>\n      <td>Mt. Hood</td>\n      <td>Oregon</td>\n    </tr>\n    <tr>\n      <th>235</th>\n      <td>Timberline Lodge</td>\n      <td>Mt. Hood</td>\n      <td>Oregon</td>\n    </tr>\n    <tr>\n      <th>260</th>\n      <td>Alta Ski Area</td>\n      <td>Salt Lake City</td>\n      <td>Utah</td>\n    </tr>\n    <tr>\n      <th>263</th>\n      <td>Brighton Resort</td>\n      <td>Salt Lake City</td>\n      <td>Utah</td>\n    </tr>\n    <tr>\n      <th>264</th>\n      <td>Deer Valley Resort</td>\n      <td>Salt Lake City</td>\n      <td>Utah</td>\n    </tr>\n    <tr>\n      <th>266</th>\n      <td>Park City</td>\n      <td>Salt Lake City</td>\n      <td>Utah</td>\n    </tr>\n    <tr>\n      <th>269</th>\n      <td>Snowbird</td>\n      <td>Salt Lake City</td>\n      <td>Utah</td>\n    </tr>\n    <tr>\n      <th>270</th>\n      <td>Solitude Mountain Resort</td>\n      <td>Salt Lake City</td>\n      <td>Utah</td>\n    </tr>\n  </tbody>\n</table>\n</div>"
     },
     "execution_count": 12,
     "metadata": {},
     "output_type": "execute_result"
    }
   ],
   "source": [
    "ski_data.select_dtypes(\"object\")[ski_data.Region != ski_data.state]"
   ],
   "metadata": {
    "collapsed": false,
    "ExecuteTime": {
     "end_time": "2023-11-10T14:56:46.128497Z",
     "start_time": "2023-11-10T14:56:46.117639Z"
    }
   }
  },
  {
   "cell_type": "code",
   "execution_count": 13,
   "outputs": [
    {
     "data": {
      "text/plain": "array([('Northern California', 'California'),\n       ('Sierra Nevada', 'California'), ('Sierra Nevada', 'Nevada'),\n       ('Mt. Hood', 'Oregon'), ('Salt Lake City', 'Utah')], dtype=object)"
     },
     "execution_count": 13,
     "metadata": {},
     "output_type": "execute_result"
    }
   ],
   "source": [
    "pd.Series((r, s) for r, s in list(zip(ski_data.Region, ski_data.state)) if r != s).unique()"
   ],
   "metadata": {
    "collapsed": false,
    "ExecuteTime": {
     "end_time": "2023-11-10T14:56:46.701098Z",
     "start_time": "2023-11-10T14:56:46.690114Z"
    }
   }
  },
  {
   "cell_type": "markdown",
   "metadata": {},
   "source": [
    "#### 2.6.3.1 Unique Resort Names<a id='2.6.3.1_Unique_Resort_Names'></a>"
   ]
  },
  {
   "cell_type": "code",
   "execution_count": 14,
   "metadata": {
    "ExecuteTime": {
     "end_time": "2023-11-10T14:56:47.419345Z",
     "start_time": "2023-11-10T14:56:47.396082Z"
    }
   },
   "outputs": [
    {
     "data": {
      "text/plain": "Crystal Mountain    2\nAlyeska Resort      1\nBrandywine          1\nBoston Mills        1\nAlpine Valley       1\nName: Name, dtype: int64"
     },
     "execution_count": 14,
     "metadata": {},
     "output_type": "execute_result"
    }
   ],
   "source": [
    "#Code task 7#\n",
    "#Use pandas' Series method `value_counts` to find any duplicated resort names\n",
    "ski_data['Name'].value_counts().head()"
   ]
  },
  {
   "cell_type": "markdown",
   "metadata": {},
   "source": [
    "You have a duplicated resort name: Crystal Mountain."
   ]
  },
  {
   "cell_type": "markdown",
   "metadata": {},
   "source": [
    "**Q: 1** Is this resort duplicated if you take into account Region and/or state as well?"
   ]
  },
  {
   "cell_type": "code",
   "execution_count": 15,
   "metadata": {
    "ExecuteTime": {
     "end_time": "2023-11-10T14:56:48.319584Z",
     "start_time": "2023-11-10T14:56:48.294497Z"
    }
   },
   "outputs": [
    {
     "data": {
      "text/plain": "Alyeska Resort, Alaska    1\nSnow Trails, Ohio         1\nBrandywine, Ohio          1\nBoston Mills, Ohio        1\nAlpine Valley, Ohio       1\ndtype: int64"
     },
     "execution_count": 15,
     "metadata": {},
     "output_type": "execute_result"
    }
   ],
   "source": [
    "#Code task 8#\n",
    "#Concatenate the string columns 'Name' and 'Region' and count the values again (as above)\n",
    "(ski_data.Name + ', ' + ski_data.Region).value_counts().head()"
   ]
  },
  {
   "cell_type": "code",
   "execution_count": 16,
   "metadata": {
    "ExecuteTime": {
     "end_time": "2023-11-10T14:56:48.574067Z",
     "start_time": "2023-11-10T14:56:48.559178Z"
    }
   },
   "outputs": [
    {
     "data": {
      "text/plain": "Alyeska Resort, Alaska    1\nSnow Trails, Ohio         1\nBrandywine, Ohio          1\nBoston Mills, Ohio        1\nAlpine Valley, Ohio       1\ndtype: int64"
     },
     "execution_count": 16,
     "metadata": {},
     "output_type": "execute_result"
    }
   ],
   "source": [
    "#Code task 9#\n",
    "#Concatenate 'Name' and 'state' and count the values again (as above)\n",
    "(ski_data.Name + ', ' + ski_data.state).value_counts().head()"
   ]
  },
  {
   "cell_type": "markdown",
   "source": [
    "**NB** because you know `value_counts()` sorts descending, you can use the `head()` method and know the rest of the counts must be 1."
   ],
   "metadata": {
    "collapsed": false
   }
  },
  {
   "cell_type": "markdown",
   "metadata": {},
   "source": [
    "**A: 1** There are two separate resorts named Crystal Mountain, in different states and in different regions."
   ]
  },
  {
   "cell_type": "code",
   "execution_count": 17,
   "metadata": {
    "ExecuteTime": {
     "end_time": "2023-11-10T14:56:49.602501Z",
     "start_time": "2023-11-10T14:56:49.585333Z"
    }
   },
   "outputs": [
    {
     "data": {
      "text/plain": "                 Name      Region       state  summit_elev  vertical_drop  \\\n104  Crystal Mountain    Michigan    Michigan         1132            375   \n295  Crystal Mountain  Washington  Washington         7012           3100   \n\n     base_elev  trams  fastEight  fastSixes  fastQuads  ...  LongestRun_mi  \\\n104        757      0        0.0          0          1  ...            0.3   \n295       4400      1        NaN          2          2  ...            2.5   \n\n     SkiableTerrain_ac  Snow Making_ac  daysOpenLastYear  yearsOpen  \\\n104              102.0            96.0             120.0       63.0   \n295             2600.0            10.0               NaN       57.0   \n\n     averageSnowfall  AdultWeekday  AdultWeekend  projectedDaysOpen  \\\n104            132.0          54.0          64.0              135.0   \n295            486.0          99.0          99.0                NaN   \n\n     NightSkiing_ac  \n104            56.0  \n295             NaN  \n\n[2 rows x 27 columns]",
      "text/html": "<div>\n<style scoped>\n    .dataframe tbody tr th:only-of-type {\n        vertical-align: middle;\n    }\n\n    .dataframe tbody tr th {\n        vertical-align: top;\n    }\n\n    .dataframe thead th {\n        text-align: right;\n    }\n</style>\n<table border=\"1\" class=\"dataframe\">\n  <thead>\n    <tr style=\"text-align: right;\">\n      <th></th>\n      <th>Name</th>\n      <th>Region</th>\n      <th>state</th>\n      <th>summit_elev</th>\n      <th>vertical_drop</th>\n      <th>base_elev</th>\n      <th>trams</th>\n      <th>fastEight</th>\n      <th>fastSixes</th>\n      <th>fastQuads</th>\n      <th>...</th>\n      <th>LongestRun_mi</th>\n      <th>SkiableTerrain_ac</th>\n      <th>Snow Making_ac</th>\n      <th>daysOpenLastYear</th>\n      <th>yearsOpen</th>\n      <th>averageSnowfall</th>\n      <th>AdultWeekday</th>\n      <th>AdultWeekend</th>\n      <th>projectedDaysOpen</th>\n      <th>NightSkiing_ac</th>\n    </tr>\n  </thead>\n  <tbody>\n    <tr>\n      <th>104</th>\n      <td>Crystal Mountain</td>\n      <td>Michigan</td>\n      <td>Michigan</td>\n      <td>1132</td>\n      <td>375</td>\n      <td>757</td>\n      <td>0</td>\n      <td>0.0</td>\n      <td>0</td>\n      <td>1</td>\n      <td>...</td>\n      <td>0.3</td>\n      <td>102.0</td>\n      <td>96.0</td>\n      <td>120.0</td>\n      <td>63.0</td>\n      <td>132.0</td>\n      <td>54.0</td>\n      <td>64.0</td>\n      <td>135.0</td>\n      <td>56.0</td>\n    </tr>\n    <tr>\n      <th>295</th>\n      <td>Crystal Mountain</td>\n      <td>Washington</td>\n      <td>Washington</td>\n      <td>7012</td>\n      <td>3100</td>\n      <td>4400</td>\n      <td>1</td>\n      <td>NaN</td>\n      <td>2</td>\n      <td>2</td>\n      <td>...</td>\n      <td>2.5</td>\n      <td>2600.0</td>\n      <td>10.0</td>\n      <td>NaN</td>\n      <td>57.0</td>\n      <td>486.0</td>\n      <td>99.0</td>\n      <td>99.0</td>\n      <td>NaN</td>\n      <td>NaN</td>\n    </tr>\n  </tbody>\n</table>\n<p>2 rows × 27 columns</p>\n</div>"
     },
     "execution_count": 17,
     "metadata": {},
     "output_type": "execute_result"
    }
   ],
   "source": [
    "ski_data[ski_data['Name'] == 'Crystal Mountain']"
   ]
  },
  {
   "cell_type": "markdown",
   "metadata": {},
   "source": [
    "So there are two Crystal Mountain resorts, but they are clearly two different resorts in two different states. This is a powerful signal that you have unique records on each row."
   ]
  },
  {
   "cell_type": "markdown",
   "metadata": {},
   "source": [
    "#### 2.6.3.2 Region And State<a id='2.6.3.2_Region_And_State'></a>"
   ]
  },
  {
   "cell_type": "markdown",
   "metadata": {},
   "source": [
    "What's the relationship between region and state?"
   ]
  },
  {
   "cell_type": "markdown",
   "metadata": {},
   "source": [
    "You know they are the same in many cases (e.g. both the Region and the state are given as 'Michigan'). In how many cases do they differ?"
   ]
  },
  {
   "cell_type": "code",
   "execution_count": 18,
   "metadata": {
    "ExecuteTime": {
     "end_time": "2023-11-10T14:56:51.372128Z",
     "start_time": "2023-11-10T14:56:51.346836Z"
    }
   },
   "outputs": [
    {
     "data": {
      "text/plain": "False    297\nTrue      33\ndtype: int64"
     },
     "execution_count": 18,
     "metadata": {},
     "output_type": "execute_result"
    }
   ],
   "source": [
    "#Code task 10#\n",
    "#Calculate the number of times Region does not equal state\n",
    "(ski_data[\"Region\"] != ski_data[\"state\"]).value_counts()"
   ]
  },
  {
   "cell_type": "markdown",
   "metadata": {},
   "source": [
    "You know what a state is. What is a region? You can tabulate the distinct values along with their respective frequencies using `value_counts()`."
   ]
  },
  {
   "cell_type": "code",
   "execution_count": 19,
   "metadata": {
    "ExecuteTime": {
     "end_time": "2023-11-10T14:56:52.102487Z",
     "start_time": "2023-11-10T14:56:52.085302Z"
    }
   },
   "outputs": [
    {
     "data": {
      "text/plain": "New York               33\nMichigan               29\nSierra Nevada          22\nColorado               22\nPennsylvania           19\nWisconsin              16\nNew Hampshire          16\nVermont                15\nMinnesota              14\nIdaho                  12\nMontana                12\nMassachusetts          11\nWashington             10\nNew Mexico              9\nMaine                   9\nWyoming                 8\nUtah                    7\nSalt Lake City          6\nNorth Carolina          6\nOregon                  6\nConnecticut             5\nOhio                    5\nVirginia                4\nWest Virginia           4\nIllinois                4\nMt. Hood                4\nAlaska                  3\nIowa                    3\nSouth Dakota            2\nArizona                 2\nNevada                  2\nMissouri                2\nIndiana                 2\nNew Jersey              2\nRhode Island            1\nTennessee               1\nMaryland                1\nNorthern California     1\nName: Region, dtype: int64"
     },
     "execution_count": 19,
     "metadata": {},
     "output_type": "execute_result"
    }
   ],
   "source": [
    "ski_data[\"Region\"].value_counts()"
   ]
  },
  {
   "cell_type": "markdown",
   "metadata": {},
   "source": [
    "A casual inspection by eye reveals some non-state names such as Sierra Nevada, Salt Lake City, and Northern California. Tabulate the differences between Region and state. On a note regarding scaling to larger data sets, you might wonder how you could spot such cases when presented with millions of rows. This is an interesting point. Imagine you have access to a database with a Region and state column in a table and there are millions of rows. You wouldn't eyeball all the rows looking for differences! Bear in mind that our first interest lies in establishing the answer to the question \"Are they always the same?\" One approach might be to ask the database to return records where they differ, but limit the output to 10 rows. If there were differences, you'd only get up to 10 results, and so you wouldn't know whether you'd located all differences, but you'd know that there were 'a nonzero number' of differences. If you got an empty result set back, then you would know that the two columns always had the same value. At the risk of digressing, some values in one column only might be NULL (missing) and different databases treat NULL differently, so be aware that on many an occasion a seamingly 'simple' question gets very interesting to answer very quickly!"
   ]
  },
  {
   "cell_type": "code",
   "execution_count": 20,
   "metadata": {
    "ExecuteTime": {
     "end_time": "2023-11-10T14:57:01.602867Z",
     "start_time": "2023-11-10T14:57:01.582457Z"
    }
   },
   "outputs": [
    {
     "data": {
      "text/plain": "state       Region             \nCalifornia  Sierra Nevada          20\n            Northern California     1\nNevada      Sierra Nevada           2\nOregon      Mt. Hood                4\nUtah        Salt Lake City          6\nName: Region, dtype: int64"
     },
     "execution_count": 20,
     "metadata": {},
     "output_type": "execute_result"
    }
   ],
   "source": [
    "#Code task 11#\n",
    "#Filter the ski_data dataframe for rows where 'Region' and 'state' are different,\n",
    "#group that by 'state' and perform `value_counts` on the 'Region'\n",
    "(ski_data[ski_data.Region != ski_data.state]\n",
    " .groupby(\"state\")[\"Region\"]\n",
    " .value_counts())"
   ]
  },
  {
   "cell_type": "markdown",
   "metadata": {},
   "source": [
    "The vast majority of the differences are in California, with most Regions being called Sierra Nevada and just one referred to as Northern California."
   ]
  },
  {
   "cell_type": "markdown",
   "metadata": {},
   "source": [
    "#### 2.6.3.3 Number of distinct regions and states<a id='2.6.3.3_Number_of_distinct_regions_and_states'></a>"
   ]
  },
  {
   "cell_type": "code",
   "execution_count": 21,
   "metadata": {
    "ExecuteTime": {
     "end_time": "2023-11-10T14:57:08.895584Z",
     "start_time": "2023-11-10T14:57:08.868974Z"
    }
   },
   "outputs": [
    {
     "data": {
      "text/plain": "Region    38\nstate     35\ndtype: int64"
     },
     "execution_count": 21,
     "metadata": {},
     "output_type": "execute_result"
    }
   ],
   "source": [
    "#Code task 12#\n",
    "#Select the 'Region' and 'state' columns from ski_data and use the `nunique` method to calculate\n",
    "#the number of unique values in each\n",
    "ski_data[[\"Region\", \"state\"]].nunique()"
   ]
  },
  {
   "cell_type": "markdown",
   "metadata": {},
   "source": [
    "Because a few states are split across multiple named regions, there are slightly more unique regions than states."
   ]
  },
  {
   "cell_type": "markdown",
   "metadata": {},
   "source": [
    "#### 2.6.3.4 Distribution Of Resorts By Region And State<a id='2.6.3.4_Distribution_Of_Resorts_By_Region_And_State'></a>"
   ]
  },
  {
   "cell_type": "markdown",
   "metadata": {},
   "source": [
    "If this is your first time using [matplotlib](https://matplotlib.org/3.2.2/index.html)'s [subplots](https://matplotlib.org/3.2.2/api/_as_gen/matplotlib.pyplot.subplots.html), you may find the online documentation useful."
   ]
  },
  {
   "cell_type": "code",
   "execution_count": 22,
   "metadata": {
    "ExecuteTime": {
     "end_time": "2023-11-10T14:57:37.652220Z",
     "start_time": "2023-11-10T14:57:37.240595Z"
    }
   },
   "outputs": [
    {
     "data": {
      "text/plain": "<Figure size 864x576 with 2 Axes>",
      "image/png": "[encoded data removed]"
     },
     "metadata": {
      "needs_background": "light"
     },
     "output_type": "display_data"
    }
   ],
   "source": [
    "#Code task 13#\n",
    "#Create two subplots on 1 row and 2 columns with a figsize of (12, 8)\n",
    "fig, ax = plt.subplots(1, 2, figsize=(12, 8))\n",
    "#Specify a horizontal barplot ('barh') as kind of plot (kind=)\n",
    "ski_data.Region.value_counts().plot(kind=\"barh\", ax=ax[0])\n",
    "#Give the plot a helpful title of 'Region'\n",
    "ax[0].set_title(\"Region\")\n",
    "#Label the xaxis 'Count'\n",
    "ax[0].set_xlabel(\"Count\")\n",
    "#Specify a horizontal barplot ('barh') as kind of plot (kind=)\n",
    "ski_data.state.value_counts().plot(kind=\"barh\", ax=ax[1])\n",
    "#Give the plot a helpful title of 'state'\n",
    "ax[1].set_title(\"state\")\n",
    "#Label the xaxis 'Count'\n",
    "ax[1].set_xlabel(\"Count\")\n",
    "#Give the subplots a little \"breathing room\" with a wspace of 0.5\n",
    "plt.subplots_adjust(wspace=0.5);\n",
    "#You're encouraged to explore a few different figure sizes, orientations, and spacing here\n",
    "# as the importance of easy-to-read and informative figures is frequently understated\n",
    "# and you will find the ability to tweak figures invaluable later on"
   ]
  },
  {
   "cell_type": "markdown",
   "metadata": {},
   "source": [
    "How's your geography? Looking at the distribution of States, you see New York accounting for the majority of resorts. Our target resort is in Montana, which comes in at 13th place. You should think carefully about how, or whether, you use this information. Does New York command a premium because of its proximity to population? Even if a resort's State were a useful predictor of ticket price, your main interest lies in Montana. Would you want a model that is skewed for accuracy by New York? Should you just filter for Montana and create a Montana-specific model? This would slash your available data volume. Your problem task includes the contextual insight that the data are for resorts all belonging to the same market share. This suggests one might expect prices to be similar amongst them. You can look into this. A boxplot grouped by State is an ideal way to quickly compare prices. Another side note worth bringing up here is that, in reality, the best approach here definitely would include consulting with the client or other domain expert. They might know of good reasons for treating states equivalently or differently. The data scientist is rarely the final arbiter of such a decision. But here, you'll see if we can find any supporting evidence for treating states the same or differently."
   ]
  },
  {
   "cell_type": "markdown",
   "metadata": {},
   "source": [
    "#### 2.6.3.5 Distribution Of Ticket Price By State<a id='2.6.3.5_Distribution_Of_Ticket_Price_By_State'></a>"
   ]
  },
  {
   "cell_type": "markdown",
   "metadata": {},
   "source": [
    "Our primary focus is our Big Mountain resort, in Montana. Does the state give you any clues to help decide what your primary target response feature should be (weekend or weekday ticket prices)?"
   ]
  },
  {
   "cell_type": "markdown",
   "metadata": {},
   "source": [
    "##### 2.6.3.5.1 Average weekend and weekday price by state<a id='2.6.3.5.1_Average_weekend_and_weekday_price_by_state'></a>"
   ]
  },
  {
   "cell_type": "code",
   "execution_count": 23,
   "metadata": {
    "ExecuteTime": {
     "end_time": "2023-11-10T14:57:43.729864Z",
     "start_time": "2023-11-10T14:57:43.680623Z"
    }
   },
   "outputs": [
    {
     "data": {
      "text/plain": "             AdultWeekday  AdultWeekend\nstate                                  \nAlaska          47.333333     57.333333\nArizona         81.500000     83.500000\nCalifornia      78.214286     81.416667\nColorado        90.714286     90.714286\nConnecticut     47.800000     56.800000",
      "text/html": "<div>\n<style scoped>\n    .dataframe tbody tr th:only-of-type {\n        vertical-align: middle;\n    }\n\n    .dataframe tbody tr th {\n        vertical-align: top;\n    }\n\n    .dataframe thead th {\n        text-align: right;\n    }\n</style>\n<table border=\"1\" class=\"dataframe\">\n  <thead>\n    <tr style=\"text-align: right;\">\n      <th></th>\n      <th>AdultWeekday</th>\n      <th>AdultWeekend</th>\n    </tr>\n    <tr>\n      <th>state</th>\n      <th></th>\n      <th></th>\n    </tr>\n  </thead>\n  <tbody>\n    <tr>\n      <th>Alaska</th>\n      <td>47.333333</td>\n      <td>57.333333</td>\n    </tr>\n    <tr>\n      <th>Arizona</th>\n      <td>81.500000</td>\n      <td>83.500000</td>\n    </tr>\n    <tr>\n      <th>California</th>\n      <td>78.214286</td>\n      <td>81.416667</td>\n    </tr>\n    <tr>\n      <th>Colorado</th>\n      <td>90.714286</td>\n      <td>90.714286</td>\n    </tr>\n    <tr>\n      <th>Connecticut</th>\n      <td>47.800000</td>\n      <td>56.800000</td>\n    </tr>\n  </tbody>\n</table>\n</div>"
     },
     "execution_count": 23,
     "metadata": {},
     "output_type": "execute_result"
    }
   ],
   "source": [
    "#Code task 14#\n",
    "# Calculate average weekday and weekend price by state and sort by the average of the two\n",
    "# Hint: use the pattern dataframe.groupby(<grouping variable>)[<list of columns>].mean()\n",
    "state_price_means = ski_data.groupby(\"state\")[[\"AdultWeekday\", \"AdultWeekend\"]].mean()\n",
    "state_price_means.head()"
   ]
  },
  {
   "cell_type": "code",
   "execution_count": 24,
   "metadata": {
    "ExecuteTime": {
     "end_time": "2023-11-10T14:57:44.205517Z",
     "start_time": "2023-11-10T14:57:44.018817Z"
    }
   },
   "outputs": [
    {
     "data": {
      "text/plain": "<Figure size 720x720 with 1 Axes>",
      "image/png": "[encoded data removed]"
     },
     "metadata": {
      "needs_background": "light"
     },
     "output_type": "display_data"
    }
   ],
   "source": [
    "# The next bit simply reorders the index by increasing average of weekday and weekend prices\n",
    "# Compare the index order you get from\n",
    "# state_price_means.index\n",
    "# with\n",
    "# state_price_means.mean(axis=1).sort_values(ascending=False).index\n",
    "# See how this expression simply sits within the reindex()\n",
    "(state_price_means.reindex(index=state_price_means.mean(axis=1)\n",
    "    .sort_values(ascending=False)\n",
    "    .index)\n",
    "    .plot(kind='barh', figsize=(10, 10), title='Average ticket price by State'))\n",
    "plt.xlabel('Price ($)');"
   ]
  },
  {
   "cell_type": "markdown",
   "source": [
    "The figure above represents a dataframe with two columns, one for the average prices of each kind of ticket. This tells you how the average ticket price varies from state to state. But can you get more insight into the difference in the distributions between states?"
   ],
   "metadata": {
    "collapsed": false
   }
  },
  {
   "cell_type": "markdown",
   "metadata": {},
   "source": [
    "##### 2.6.3.5.2 Distribution of weekday and weekend price by state<a id='2.6.3.5.2_Distribution_of_weekday_and_weekend_price_by_state'></a>"
   ]
  },
  {
   "cell_type": "markdown",
   "metadata": {},
   "source": [
    "Next, you can transform the data into a single column for price with a new categorical column that represents the ticket type."
   ]
  },
  {
   "cell_type": "code",
   "execution_count": 25,
   "metadata": {
    "ExecuteTime": {
     "end_time": "2023-11-10T14:57:48.018200Z",
     "start_time": "2023-11-10T14:57:47.972282Z"
    }
   },
   "outputs": [
    {
     "data": {
      "text/plain": "     state        Ticket  Price\n0   Alaska  AdultWeekday   65.0\n1   Alaska  AdultWeekday   47.0\n2   Alaska  AdultWeekday   30.0\n3  Arizona  AdultWeekday   89.0\n4  Arizona  AdultWeekday   74.0",
      "text/html": "<div>\n<style scoped>\n    .dataframe tbody tr th:only-of-type {\n        vertical-align: middle;\n    }\n\n    .dataframe tbody tr th {\n        vertical-align: top;\n    }\n\n    .dataframe thead th {\n        text-align: right;\n    }\n</style>\n<table border=\"1\" class=\"dataframe\">\n  <thead>\n    <tr style=\"text-align: right;\">\n      <th></th>\n      <th>state</th>\n      <th>Ticket</th>\n      <th>Price</th>\n    </tr>\n  </thead>\n  <tbody>\n    <tr>\n      <th>0</th>\n      <td>Alaska</td>\n      <td>AdultWeekday</td>\n      <td>65.0</td>\n    </tr>\n    <tr>\n      <th>1</th>\n      <td>Alaska</td>\n      <td>AdultWeekday</td>\n      <td>47.0</td>\n    </tr>\n    <tr>\n      <th>2</th>\n      <td>Alaska</td>\n      <td>AdultWeekday</td>\n      <td>30.0</td>\n    </tr>\n    <tr>\n      <th>3</th>\n      <td>Arizona</td>\n      <td>AdultWeekday</td>\n      <td>89.0</td>\n    </tr>\n    <tr>\n      <th>4</th>\n      <td>Arizona</td>\n      <td>AdultWeekday</td>\n      <td>74.0</td>\n    </tr>\n  </tbody>\n</table>\n</div>"
     },
     "execution_count": 25,
     "metadata": {},
     "output_type": "execute_result"
    }
   ],
   "source": [
    "#Code task 15#\n",
    "#Use the pd.melt function, pass in the ski_data columns 'state', 'AdultWeekday', and 'Adultweekend' only,\n",
    "#specify 'state' for `id_vars`\n",
    "#gather the ticket prices from the 'Adultweekday' and 'AdultWeekend' columns using the `value_vars` argument,\n",
    "#call the resultant price column 'Price' via the `value_name` argument,\n",
    "#name the weekday/weekend indicator column 'Ticket' via the `var_name` argument\n",
    "ticket_prices = pd.melt(ski_data[[\"state\", \"AdultWeekday\", \"AdultWeekend\"]],\n",
    "                        id_vars=\"state\",\n",
    "                        var_name=\"Ticket\",\n",
    "                        value_vars=[\"AdultWeekday\", \"AdultWeekend\"],\n",
    "                        value_name=\"Price\")\n",
    "\n",
    "ticket_prices.head()"
   ]
  },
  {
   "cell_type": "markdown",
   "metadata": {},
   "source": [
    "This is now in a format we can pass to [seaborn](https://seaborn.pydata.org/)'s [boxplot](https://seaborn.pydata.org/generated/seaborn.boxplot.html) function to create boxplots of the ticket price distributions for each ticket type for each state."
   ]
  },
  {
   "cell_type": "code",
   "execution_count": 26,
   "metadata": {
    "ExecuteTime": {
     "end_time": "2023-11-10T14:57:50.415004Z",
     "start_time": "2023-11-10T14:57:49.974939Z"
    }
   },
   "outputs": [
    {
     "data": {
      "text/plain": "<Figure size 864x576 with 1 Axes>",
      "image/png": "[encoded data removed]"
     },
     "metadata": {
      "needs_background": "light"
     },
     "output_type": "display_data"
    }
   ],
   "source": [
    "#Code task 16#\n",
    "#Create a seaborn boxplot of the ticket price dataframe we created above,\n",
    "#with 'state' on the x-axis, 'Price' as the y-value, and a hue that indicates 'Ticket'\n",
    "#This will use boxplot's x, y, hue, and data arguments.\n",
    "plt.subplots(figsize=(12, 8))\n",
    "sns.boxplot(x=\"state\", y=\"Price\", hue=\"Ticket\", data=ticket_prices)\n",
    "plt.xticks(rotation='vertical')\n",
    "plt.ylabel('Price ($)')\n",
    "plt.xlabel('State');"
   ]
  },
  {
   "cell_type": "markdown",
   "metadata": {},
   "source": [
    "Aside from some relatively expensive ticket prices in California, Colorado, and Utah, most prices appear to lie in a broad band from around 25 to over 100 dollars. Some States show more variability than others. Montana and South Dakota, for example, both show fairly small variability as well as matching weekend and weekday ticket prices. Nevada and Utah, on the other hand, show the most range in prices. Some States, notably North Carolina and Virginia, have weekend prices far higher than weekday prices. You could be inspired from this exploration to consider a few potential groupings of resorts, those with low spread, those with lower averages, and those that charge a premium for weekend tickets. However, you're told that you are taking all resorts to be part of the same market share, you  could argue against further segment the resorts. Nevertheless, ways to consider using the State information in your modelling include:\n",
    "\n",
    "* disregard State completely\n",
    "* retain all State information\n",
    "* retain State in the form of Montana vs not Montana, as our target resort is in Montana\n",
    "\n",
    "You've also noted another effect above: some States show a marked difference between weekday and weekend ticket prices. It may make sense to allow a model to take into account not just State but also weekend vs weekday."
   ]
  },
  {
   "cell_type": "markdown",
   "metadata": {},
   "source": [
    "Thus we currently have two main questions you want to resolve:\n",
    "\n",
    "* What do you do about the two types of ticket price?\n",
    "* What do you do about the state information?"
   ]
  },
  {
   "cell_type": "markdown",
   "metadata": {},
   "source": [
    "### 2.6.4 Numeric Features<a id='2.6.4_Numeric_Features'></a>"
   ]
  },
  {
   "cell_type": "markdown",
   "source": [
    "Having decided to reserve judgement on how exactly you utilize the State, turn your attention to cleaning the numeric features."
   ],
   "metadata": {
    "collapsed": false
   }
  },
  {
   "cell_type": "markdown",
   "metadata": {},
   "source": [
    "#### 2.6.4.1 Numeric data summary<a id='2.6.4.1_Numeric_data_summary'></a>"
   ]
  },
  {
   "cell_type": "code",
   "execution_count": 27,
   "metadata": {
    "ExecuteTime": {
     "end_time": "2023-11-10T14:57:54.287217Z",
     "start_time": "2023-11-10T14:57:54.227961Z"
    }
   },
   "outputs": [
    {
     "data": {
      "text/plain": "                   count         mean          std    min      25%     50%  \\\nsummit_elev        330.0  4591.818182  3735.535934  315.0  1403.75  3127.5   \nvertical_drop      330.0  1215.427273   947.864557   60.0   461.25   964.5   \nbase_elev          330.0  3374.000000  3117.121621   70.0   869.00  1561.5   \ntrams              330.0     0.172727     0.559946    0.0     0.00     0.0   \nfastEight          164.0     0.006098     0.078087    0.0     0.00     0.0   \nfastSixes          330.0     0.184848     0.651685    0.0     0.00     0.0   \nfastQuads          330.0     1.018182     2.198294    0.0     0.00     0.0   \nquad               330.0     0.933333     1.312245    0.0     0.00     0.0   \ntriple             330.0     1.500000     1.619130    0.0     0.00     1.0   \ndouble             330.0     1.833333     1.815028    0.0     1.00     1.0   \nsurface            330.0     2.621212     2.059636    0.0     1.00     2.0   \ntotal_chairs       330.0     8.266667     5.798683    0.0     5.00     7.0   \nRuns               326.0    48.214724    46.364077    3.0    19.00    33.0   \nTerrainParks       279.0     2.820789     2.008113    1.0     1.00     2.0   \nLongestRun_mi      325.0     1.433231     1.156171    0.0     0.50     1.0   \nSkiableTerrain_ac  327.0   739.801223  1816.167441    8.0    85.00   200.0   \nSnow Making_ac     284.0   174.873239   261.336125    2.0    50.00   100.0   \ndaysOpenLastYear   279.0   115.103943    35.063251    3.0    97.00   114.0   \nyearsOpen          329.0    63.656535   109.429928    6.0    50.00    58.0   \naverageSnowfall    316.0   185.316456   136.356842   18.0    69.00   150.0   \nAdultWeekday       276.0    57.916957    26.140126   15.0    40.00    50.0   \nAdultWeekend       279.0    64.166810    24.554584   17.0    47.00    60.0   \nprojectedDaysOpen  283.0   120.053004    31.045963   30.0   100.00   120.0   \nNightSkiing_ac     187.0   100.395722   105.169620    2.0    40.00    72.0   \n\n                       75%      max  \nsummit_elev        7806.00  13487.0  \nvertical_drop      1800.00   4425.0  \nbase_elev          6325.25  10800.0  \ntrams                 0.00      4.0  \nfastEight             0.00      1.0  \nfastSixes             0.00      6.0  \nfastQuads             1.00     15.0  \nquad                  1.00      8.0  \ntriple                2.00      8.0  \ndouble                3.00     14.0  \nsurface               3.00     15.0  \ntotal_chairs         10.00     41.0  \nRuns                 60.00    341.0  \nTerrainParks          4.00     14.0  \nLongestRun_mi         2.00      6.0  \nSkiableTerrain_ac   690.00  26819.0  \nSnow Making_ac      200.50   3379.0  \ndaysOpenLastYear    135.00    305.0  \nyearsOpen            69.00   2019.0  \naverageSnowfall     300.00    669.0  \nAdultWeekday         71.00    179.0  \nAdultWeekend         77.50    179.0  \nprojectedDaysOpen   139.50    305.0  \nNightSkiing_ac      114.00    650.0  ",
      "text/html": "<div>\n<style scoped>\n    .dataframe tbody tr th:only-of-type {\n        vertical-align: middle;\n    }\n\n    .dataframe tbody tr th {\n        vertical-align: top;\n    }\n\n    .dataframe thead th {\n        text-align: right;\n    }\n</style>\n<table border=\"1\" class=\"dataframe\">\n  <thead>\n    <tr style=\"text-align: right;\">\n      <th></th>\n      <th>count</th>\n      <th>mean</th>\n      <th>std</th>\n      <th>min</th>\n      <th>25%</th>\n      <th>50%</th>\n      <th>75%</th>\n      <th>max</th>\n    </tr>\n  </thead>\n  <tbody>\n    <tr>\n      <th>summit_elev</th>\n      <td>330.0</td>\n      <td>4591.818182</td>\n      <td>3735.535934</td>\n      <td>315.0</td>\n      <td>1403.75</td>\n      <td>3127.5</td>\n      <td>7806.00</td>\n      <td>13487.0</td>\n    </tr>\n    <tr>\n      <th>vertical_drop</th>\n      <td>330.0</td>\n      <td>1215.427273</td>\n      <td>947.864557</td>\n      <td>60.0</td>\n      <td>461.25</td>\n      <td>964.5</td>\n      <td>1800.00</td>\n      <td>4425.0</td>\n    </tr>\n    <tr>\n      <th>base_elev</th>\n      <td>330.0</td>\n      <td>3374.000000</td>\n      <td>3117.121621</td>\n      <td>70.0</td>\n      <td>869.00</td>\n      <td>1561.5</td>\n      <td>6325.25</td>\n      <td>10800.0</td>\n    </tr>\n    <tr>\n      <th>trams</th>\n      <td>330.0</td>\n      <td>0.172727</td>\n      <td>0.559946</td>\n      <td>0.0</td>\n      <td>0.00</td>\n      <td>0.0</td>\n      <td>0.00</td>\n      <td>4.0</td>\n    </tr>\n    <tr>\n      <th>fastEight</th>\n      <td>164.0</td>\n      <td>0.006098</td>\n      <td>0.078087</td>\n      <td>0.0</td>\n      <td>0.00</td>\n      <td>0.0</td>\n      <td>0.00</td>\n      <td>1.0</td>\n    </tr>\n    <tr>\n      <th>fastSixes</th>\n      <td>330.0</td>\n      <td>0.184848</td>\n      <td>0.651685</td>\n      <td>0.0</td>\n      <td>0.00</td>\n      <td>0.0</td>\n      <td>0.00</td>\n      <td>6.0</td>\n    </tr>\n    <tr>\n      <th>fastQuads</th>\n      <td>330.0</td>\n      <td>1.018182</td>\n      <td>2.198294</td>\n      <td>0.0</td>\n      <td>0.00</td>\n      <td>0.0</td>\n      <td>1.00</td>\n      <td>15.0</td>\n    </tr>\n    <tr>\n      <th>quad</th>\n      <td>330.0</td>\n      <td>0.933333</td>\n      <td>1.312245</td>\n      <td>0.0</td>\n      <td>0.00</td>\n      <td>0.0</td>\n      <td>1.00</td>\n      <td>8.0</td>\n    </tr>\n    <tr>\n      <th>triple</th>\n      <td>330.0</td>\n      <td>1.500000</td>\n      <td>1.619130</td>\n      <td>0.0</td>\n      <td>0.00</td>\n      <td>1.0</td>\n      <td>2.00</td>\n      <td>8.0</td>\n    </tr>\n    <tr>\n      <th>double</th>\n      <td>330.0</td>\n      <td>1.833333</td>\n      <td>1.815028</td>\n      <td>0.0</td>\n      <td>1.00</td>\n      <td>1.0</td>\n      <td>3.00</td>\n      <td>14.0</td>\n    </tr>\n    <tr>\n      <th>surface</th>\n      <td>330.0</td>\n      <td>2.621212</td>\n      <td>2.059636</td>\n      <td>0.0</td>\n      <td>1.00</td>\n      <td>2.0</td>\n      <td>3.00</td>\n      <td>15.0</td>\n    </tr>\n    <tr>\n      <th>total_chairs</th>\n      <td>330.0</td>\n      <td>8.266667</td>\n      <td>5.798683</td>\n      <td>0.0</td>\n      <td>5.00</td>\n      <td>7.0</td>\n      <td>10.00</td>\n      <td>41.0</td>\n    </tr>\n    <tr>\n      <th>Runs</th>\n      <td>326.0</td>\n      <td>48.214724</td>\n      <td>46.364077</td>\n      <td>3.0</td>\n      <td>19.00</td>\n      <td>33.0</td>\n      <td>60.00</td>\n      <td>341.0</td>\n    </tr>\n    <tr>\n      <th>TerrainParks</th>\n      <td>279.0</td>\n      <td>2.820789</td>\n      <td>2.008113</td>\n      <td>1.0</td>\n      <td>1.00</td>\n      <td>2.0</td>\n      <td>4.00</td>\n      <td>14.0</td>\n    </tr>\n    <tr>\n      <th>LongestRun_mi</th>\n      <td>325.0</td>\n      <td>1.433231</td>\n      <td>1.156171</td>\n      <td>0.0</td>\n      <td>0.50</td>\n      <td>1.0</td>\n      <td>2.00</td>\n      <td>6.0</td>\n    </tr>\n    <tr>\n      <th>SkiableTerrain_ac</th>\n      <td>327.0</td>\n      <td>739.801223</td>\n      <td>1816.167441</td>\n      <td>8.0</td>\n      <td>85.00</td>\n      <td>200.0</td>\n      <td>690.00</td>\n      <td>26819.0</td>\n    </tr>\n    <tr>\n      <th>Snow Making_ac</th>\n      <td>284.0</td>\n      <td>174.873239</td>\n      <td>261.336125</td>\n      <td>2.0</td>\n      <td>50.00</td>\n      <td>100.0</td>\n      <td>200.50</td>\n      <td>3379.0</td>\n    </tr>\n    <tr>\n      <th>daysOpenLastYear</th>\n      <td>279.0</td>\n      <td>115.103943</td>\n      <td>35.063251</td>\n      <td>3.0</td>\n      <td>97.00</td>\n      <td>114.0</td>\n      <td>135.00</td>\n      <td>305.0</td>\n    </tr>\n    <tr>\n      <th>yearsOpen</th>\n      <td>329.0</td>\n      <td>63.656535</td>\n      <td>109.429928</td>\n      <td>6.0</td>\n      <td>50.00</td>\n      <td>58.0</td>\n      <td>69.00</td>\n      <td>2019.0</td>\n    </tr>\n    <tr>\n      <th>averageSnowfall</th>\n      <td>316.0</td>\n      <td>185.316456</td>\n      <td>136.356842</td>\n      <td>18.0</td>\n      <td>69.00</td>\n      <td>150.0</td>\n      <td>300.00</td>\n      <td>669.0</td>\n    </tr>\n    <tr>\n      <th>AdultWeekday</th>\n      <td>276.0</td>\n      <td>57.916957</td>\n      <td>26.140126</td>\n      <td>15.0</td>\n      <td>40.00</td>\n      <td>50.0</td>\n      <td>71.00</td>\n      <td>179.0</td>\n    </tr>\n    <tr>\n      <th>AdultWeekend</th>\n      <td>279.0</td>\n      <td>64.166810</td>\n      <td>24.554584</td>\n      <td>17.0</td>\n      <td>47.00</td>\n      <td>60.0</td>\n      <td>77.50</td>\n      <td>179.0</td>\n    </tr>\n    <tr>\n      <th>projectedDaysOpen</th>\n      <td>283.0</td>\n      <td>120.053004</td>\n      <td>31.045963</td>\n      <td>30.0</td>\n      <td>100.00</td>\n      <td>120.0</td>\n      <td>139.50</td>\n      <td>305.0</td>\n    </tr>\n    <tr>\n      <th>NightSkiing_ac</th>\n      <td>187.0</td>\n      <td>100.395722</td>\n      <td>105.169620</td>\n      <td>2.0</td>\n      <td>40.00</td>\n      <td>72.0</td>\n      <td>114.00</td>\n      <td>650.0</td>\n    </tr>\n  </tbody>\n</table>\n</div>"
     },
     "execution_count": 27,
     "metadata": {},
     "output_type": "execute_result"
    }
   ],
   "source": [
    "#Code task 17#\n",
    "#Call ski_data's `describe` method for a statistical summary of the numerical columns\n",
    "#Hint: there are fewer summary stat columns than features, so displaying the transpose\n",
    "#will be useful again\n",
    "ski_data.describe().T"
   ]
  },
  {
   "cell_type": "markdown",
   "metadata": {},
   "source": [
    "Recall you're missing the ticket prices for some 16% of resorts. This is a fundamental problem that means you simply lack the required data for those resorts and will have to drop those records. But you may have a weekend price and not a weekday price, or vice versa. You want to keep any price you have."
   ]
  },
  {
   "cell_type": "code",
   "execution_count": 28,
   "metadata": {
    "ExecuteTime": {
     "end_time": "2023-11-10T14:57:56.951950Z",
     "start_time": "2023-11-10T14:57:56.918696Z"
    }
   },
   "outputs": [
    {
     "data": {
      "text/plain": "0    82.424242\n2    14.242424\n1     3.333333\ndtype: float64"
     },
     "execution_count": 28,
     "metadata": {},
     "output_type": "execute_result"
    }
   ],
   "source": [
    "missing_price = ski_data[['AdultWeekend', 'AdultWeekday']].isnull().sum(axis=1)\n",
    "missing_price.value_counts()/len(missing_price) * 100"
   ]
  },
  {
   "cell_type": "markdown",
   "metadata": {},
   "source": [
    "Just over 82% of resorts have no missing ticket price, 3% are missing one value, and 14% are missing both. You will definitely want to drop the records for which you have no price information, however you will not do so just yet. There may still be useful information about the distributions of other features in that 14% of the data."
   ]
  },
  {
   "cell_type": "markdown",
   "metadata": {},
   "source": [
    "#### 2.6.4.2 Distributions Of Feature Values<a id='2.6.4.2_Distributions_Of_Feature_Values'></a>"
   ]
  },
  {
   "cell_type": "markdown",
   "metadata": {},
   "source": [
    "Note that, although we are still in the 'data wrangling and cleaning' phase rather than exploratory data analysis, looking at distributions of features is immensely useful in getting a feel for whether the values look sensible and whether there are any obvious outliers to investigate. Some exploratory data analysis belongs here, and data wrangling will inevitably occur later on. It's more a matter of emphasis. Here, we're interesting in focusing on whether distributions look plausible or wrong. Later on, we're more interested in relationships and patterns."
   ]
  },
  {
   "cell_type": "code",
   "execution_count": 29,
   "metadata": {
    "ExecuteTime": {
     "end_time": "2023-11-10T14:58:02.737314Z",
     "start_time": "2023-11-10T14:58:01.353593Z"
    }
   },
   "outputs": [
    {
     "data": {
      "text/plain": "<Figure size 1080x720 with 25 Axes>",
      "image/png": "[encoded data removed]"
     },
     "metadata": {
      "needs_background": "light"
     },
     "output_type": "display_data"
    }
   ],
   "source": [
    "#Code task 18#\n",
    "#Call ski_data's `hist` method to plot histograms of each of the numeric features\n",
    "#Try passing it an argument figsize=(15,10)\n",
    "#Try calling plt.subplots_adjust() with an argument hspace=0.5 to adjust the spacing\n",
    "#It's important you create legible and easy-to-read plots\n",
    "ski_data.hist(figsize=(15, 10))\n",
    "plt.subplots_adjust(hspace=0.5);\n",
    "#Hint: notice how the terminating ';' \"swallows\" some messy output and leads to a tidier notebook"
   ]
  },
  {
   "cell_type": "markdown",
   "metadata": {},
   "source": [
    "What features do we have possible cause for concern about and why?\n",
    "\n",
    "* SkiableTerrain_ac because values are clustered down the low end,\n",
    "* Snow Making_ac for the same reason,\n",
    "* fastEight because all but one value is 0 so it has very little variance, and half the values are missing,\n",
    "* fastSixes raises an amber flag; it has more variability, but still mostly 0,\n",
    "* trams also may get an amber flag for the same reason,\n",
    "* yearsOpen because most values are low but it has a maximum of 2019, which strongly suggests someone recorded calendar year rather than number of years."
   ]
  },
  {
   "cell_type": "markdown",
   "metadata": {},
   "source": [
    "##### 2.6.4.2.1 SkiableTerrain_ac<a id='2.6.4.2.1_SkiableTerrain_ac'></a>"
   ]
  },
  {
   "cell_type": "code",
   "execution_count": 30,
   "metadata": {
    "ExecuteTime": {
     "end_time": "2023-11-10T14:58:04.243075Z",
     "start_time": "2023-11-10T14:58:04.211753Z"
    }
   },
   "outputs": [
    {
     "data": {
      "text/plain": "39    26819.0\nName: SkiableTerrain_ac, dtype: float64"
     },
     "execution_count": 30,
     "metadata": {},
     "output_type": "execute_result"
    }
   ],
   "source": [
    "#Code task 19#\n",
    "#Filter the 'SkiableTerrain_ac' column to print the values greater than 10000\n",
    "ski_data.SkiableTerrain_ac[ski_data.SkiableTerrain_ac > 10000]"
   ]
  },
  {
   "cell_type": "markdown",
   "metadata": {},
   "source": [
    "**Q: 2** One resort has an incredibly large skiable terrain area! Which is it?"
   ]
  },
  {
   "cell_type": "code",
   "execution_count": 31,
   "metadata": {
    "ExecuteTime": {
     "end_time": "2023-11-10T14:58:04.768040Z",
     "start_time": "2023-11-10T14:58:04.744518Z"
    }
   },
   "outputs": [
    {
     "data": {
      "text/plain": "                                   39\nName               Silverton Mountain\nRegion                       Colorado\nstate                        Colorado\nsummit_elev                     13487\nvertical_drop                    3087\nbase_elev                       10400\ntrams                               0\nfastEight                         0.0\nfastSixes                           0\nfastQuads                           0\nquad                                0\ntriple                              0\ndouble                              1\nsurface                             0\ntotal_chairs                        1\nRuns                              NaN\nTerrainParks                      NaN\nLongestRun_mi                     1.5\nSkiableTerrain_ac             26819.0\nSnow Making_ac                    NaN\ndaysOpenLastYear                175.0\nyearsOpen                        17.0\naverageSnowfall                 400.0\nAdultWeekday                     79.0\nAdultWeekend                     79.0\nprojectedDaysOpen               181.0\nNightSkiing_ac                    NaN",
      "text/html": "<div>\n<style scoped>\n    .dataframe tbody tr th:only-of-type {\n        vertical-align: middle;\n    }\n\n    .dataframe tbody tr th {\n        vertical-align: top;\n    }\n\n    .dataframe thead th {\n        text-align: right;\n    }\n</style>\n<table border=\"1\" class=\"dataframe\">\n  <thead>\n    <tr style=\"text-align: right;\">\n      <th></th>\n      <th>39</th>\n    </tr>\n  </thead>\n  <tbody>\n    <tr>\n      <th>Name</th>\n      <td>Silverton Mountain</td>\n    </tr>\n    <tr>\n      <th>Region</th>\n      <td>Colorado</td>\n    </tr>\n    <tr>\n      <th>state</th>\n      <td>Colorado</td>\n    </tr>\n    <tr>\n      <th>summit_elev</th>\n      <td>13487</td>\n    </tr>\n    <tr>\n      <th>vertical_drop</th>\n      <td>3087</td>\n    </tr>\n    <tr>\n      <th>base_elev</th>\n      <td>10400</td>\n    </tr>\n    <tr>\n      <th>trams</th>\n      <td>0</td>\n    </tr>\n    <tr>\n      <th>fastEight</th>\n      <td>0.0</td>\n    </tr>\n    <tr>\n      <th>fastSixes</th>\n      <td>0</td>\n    </tr>\n    <tr>\n      <th>fastQuads</th>\n      <td>0</td>\n    </tr>\n    <tr>\n      <th>quad</th>\n      <td>0</td>\n    </tr>\n    <tr>\n      <th>triple</th>\n      <td>0</td>\n    </tr>\n    <tr>\n      <th>double</th>\n      <td>1</td>\n    </tr>\n    <tr>\n      <th>surface</th>\n      <td>0</td>\n    </tr>\n    <tr>\n      <th>total_chairs</th>\n      <td>1</td>\n    </tr>\n    <tr>\n      <th>Runs</th>\n      <td>NaN</td>\n    </tr>\n    <tr>\n      <th>TerrainParks</th>\n      <td>NaN</td>\n    </tr>\n    <tr>\n      <th>LongestRun_mi</th>\n      <td>1.5</td>\n    </tr>\n    <tr>\n      <th>SkiableTerrain_ac</th>\n      <td>26819.0</td>\n    </tr>\n    <tr>\n      <th>Snow Making_ac</th>\n      <td>NaN</td>\n    </tr>\n    <tr>\n      <th>daysOpenLastYear</th>\n      <td>175.0</td>\n    </tr>\n    <tr>\n      <th>yearsOpen</th>\n      <td>17.0</td>\n    </tr>\n    <tr>\n      <th>averageSnowfall</th>\n      <td>400.0</td>\n    </tr>\n    <tr>\n      <th>AdultWeekday</th>\n      <td>79.0</td>\n    </tr>\n    <tr>\n      <th>AdultWeekend</th>\n      <td>79.0</td>\n    </tr>\n    <tr>\n      <th>projectedDaysOpen</th>\n      <td>181.0</td>\n    </tr>\n    <tr>\n      <th>NightSkiing_ac</th>\n      <td>NaN</td>\n    </tr>\n  </tbody>\n</table>\n</div>"
     },
     "execution_count": 31,
     "metadata": {},
     "output_type": "execute_result"
    }
   ],
   "source": [
    "#Code task 20#\n",
    "#Now you know there's only one, print the whole row to investigate all values, including seeing the resort name\n",
    "#Hint: don't forget the transpose will be helpful here\n",
    "ski_data[ski_data.SkiableTerrain_ac > 10000].T"
   ]
  },
  {
   "cell_type": "markdown",
   "metadata": {},
   "source": [
    "**A: 2** The Silverton Mountain resort entry claims a skiable terrain area of 26819 acres"
   ]
  },
  {
   "cell_type": "markdown",
   "metadata": {},
   "source": [
    "But what can you do when you have one record that seems highly suspicious?"
   ]
  },
  {
   "cell_type": "markdown",
   "metadata": {},
   "source": [
    "You can see if your data are correct. Search for \"silverton mountain skiable area\". If you do this, you get some [useful information](https://www.google.com/search?q=silverton+mountain+skiable+area)."
   ]
  },
  {
   "cell_type": "markdown",
   "metadata": {},
   "source": [
    "![Silverton Mountain information](../images/silverton_mountain_info.png)"
   ]
  },
  {
   "cell_type": "markdown",
   "metadata": {},
   "source": [
    "You can spot check data. You see your top and base elevation values agree, but the skiable area is very different. Your suspect value is 26819, but the value you've just looked up is 1819. The last three digits agree. This sort of error could have occured in transmission or some editing or transcription stage. You could plausibly replace the suspect value with the one you've just obtained. Another cautionary note to make here is that although you're doing this in order to progress with your analysis, this is most definitely an issue that should have been raised and fed back to the client or data originator as a query. You should view this \"data correction\" step as a means to continue (documenting it carefully as you do in this notebook) rather than an ultimate decision as to what is correct."
   ]
  },
  {
   "cell_type": "code",
   "execution_count": 32,
   "metadata": {
    "ExecuteTime": {
     "end_time": "2023-11-10T14:58:08.591049Z",
     "start_time": "2023-11-10T14:58:08.565204Z"
    }
   },
   "outputs": [
    {
     "data": {
      "text/plain": "26819.0"
     },
     "execution_count": 32,
     "metadata": {},
     "output_type": "execute_result"
    }
   ],
   "source": [
    "#Code task 21#\n",
    "#Use the .loc accessor to print the 'SkiableTerrain_ac' value only for this resort\n",
    "ski_data.loc[39, 'SkiableTerrain_ac']"
   ]
  },
  {
   "cell_type": "code",
   "execution_count": 33,
   "metadata": {
    "ExecuteTime": {
     "end_time": "2023-11-10T14:58:09.488089Z",
     "start_time": "2023-11-10T14:58:09.471567Z"
    }
   },
   "outputs": [],
   "source": [
    "#Code task 22#\n",
    "#Use the .loc accessor again to modify this value with the correct value of 1819\n",
    "ski_data.loc[39, 'SkiableTerrain_ac'] = 1819"
   ]
  },
  {
   "cell_type": "code",
   "execution_count": 37,
   "metadata": {
    "ExecuteTime": {
     "end_time": "2023-11-10T15:05:00.621896Z",
     "start_time": "2023-11-10T15:05:00.595773Z"
    }
   },
   "outputs": [
    {
     "data": {
      "text/plain": "1819.0"
     },
     "execution_count": 37,
     "metadata": {},
     "output_type": "execute_result"
    }
   ],
   "source": [
    "#Code task 23#\n",
    "#Use the .loc accessor a final time to verify that the value has been modified\n",
    "ski_data.loc[39, 'SkiableTerrain_ac']"
   ]
  },
  {
   "cell_type": "markdown",
   "metadata": {},
   "source": [
    "**NB whilst you may become suspicious about your data quality, and you know you have missing values, you will not here dive down the rabbit hole of checking all values or web scraping to replace missing values.**"
   ]
  },
  {
   "cell_type": "markdown",
   "metadata": {},
   "source": [
    "What does the distribution of skiable area look like now?"
   ]
  },
  {
   "cell_type": "code",
   "execution_count": 38,
   "metadata": {
    "ExecuteTime": {
     "end_time": "2023-11-10T15:05:02.802078Z",
     "start_time": "2023-11-10T15:05:02.697364Z"
    }
   },
   "outputs": [
    {
     "data": {
      "text/plain": "<Figure size 432x288 with 1 Axes>",
      "image/png": "[encoded data removed]"
     },
     "metadata": {
      "needs_background": "light"
     },
     "output_type": "display_data"
    }
   ],
   "source": [
    "ski_data.SkiableTerrain_ac.hist(bins=30)\n",
    "plt.xlabel('SkiableTerrain_ac')\n",
    "plt.ylabel('Count')\n",
    "plt.title('Distribution of skiable area (acres) after replacing erroneous value');"
   ]
  },
  {
   "cell_type": "markdown",
   "metadata": {},
   "source": [
    "You now see a rather long tailed distribution. You may wonder about the now most extreme value that is above 8000, but similarly you may also wonder about the value around 7000. If you wanted to spend more time manually checking values you could, but leave this for now. The above distribution is plausible."
   ]
  },
  {
   "cell_type": "markdown",
   "metadata": {},
   "source": [
    "##### 2.6.4.2.2 Snow Making_ac<a id='2.6.4.2.2_Snow_Making_ac'></a>"
   ]
  },
  {
   "cell_type": "code",
   "execution_count": 39,
   "metadata": {
    "ExecuteTime": {
     "end_time": "2023-11-10T15:05:47.543097Z",
     "start_time": "2023-11-10T15:05:47.522257Z"
    }
   },
   "outputs": [
    {
     "data": {
      "text/plain": "11    3379.0\n18    1500.0\nName: Snow Making_ac, dtype: float64"
     },
     "execution_count": 39,
     "metadata": {},
     "output_type": "execute_result"
    }
   ],
   "source": [
    "ski_data['Snow Making_ac'][ski_data['Snow Making_ac'] > 1000]"
   ]
  },
  {
   "cell_type": "code",
   "execution_count": 40,
   "metadata": {
    "ExecuteTime": {
     "end_time": "2023-11-10T15:05:51.487620Z",
     "start_time": "2023-11-10T15:05:51.433016Z"
    }
   },
   "outputs": [
    {
     "data": {
      "text/plain": "                                         11\nName               Heavenly Mountain Resort\nRegion                        Sierra Nevada\nstate                            California\nsummit_elev                           10067\nvertical_drop                          3500\nbase_elev                              7170\ntrams                                     2\nfastEight                               0.0\nfastSixes                                 2\nfastQuads                                 7\nquad                                      1\ntriple                                    5\ndouble                                    3\nsurface                                   8\ntotal_chairs                             28\nRuns                                   97.0\nTerrainParks                            3.0\nLongestRun_mi                           5.5\nSkiableTerrain_ac                    4800.0\nSnow Making_ac                       3379.0\ndaysOpenLastYear                      155.0\nyearsOpen                              64.0\naverageSnowfall                       360.0\nAdultWeekday                            NaN\nAdultWeekend                            NaN\nprojectedDaysOpen                     157.0\nNightSkiing_ac                          NaN",
      "text/html": "<div>\n<style scoped>\n    .dataframe tbody tr th:only-of-type {\n        vertical-align: middle;\n    }\n\n    .dataframe tbody tr th {\n        vertical-align: top;\n    }\n\n    .dataframe thead th {\n        text-align: right;\n    }\n</style>\n<table border=\"1\" class=\"dataframe\">\n  <thead>\n    <tr style=\"text-align: right;\">\n      <th></th>\n      <th>11</th>\n    </tr>\n  </thead>\n  <tbody>\n    <tr>\n      <th>Name</th>\n      <td>Heavenly Mountain Resort</td>\n    </tr>\n    <tr>\n      <th>Region</th>\n      <td>Sierra Nevada</td>\n    </tr>\n    <tr>\n      <th>state</th>\n      <td>California</td>\n    </tr>\n    <tr>\n      <th>summit_elev</th>\n      <td>10067</td>\n    </tr>\n    <tr>\n      <th>vertical_drop</th>\n      <td>3500</td>\n    </tr>\n    <tr>\n      <th>base_elev</th>\n      <td>7170</td>\n    </tr>\n    <tr>\n      <th>trams</th>\n      <td>2</td>\n    </tr>\n    <tr>\n      <th>fastEight</th>\n      <td>0.0</td>\n    </tr>\n    <tr>\n      <th>fastSixes</th>\n      <td>2</td>\n    </tr>\n    <tr>\n      <th>fastQuads</th>\n      <td>7</td>\n    </tr>\n    <tr>\n      <th>quad</th>\n      <td>1</td>\n    </tr>\n    <tr>\n      <th>triple</th>\n      <td>5</td>\n    </tr>\n    <tr>\n      <th>double</th>\n      <td>3</td>\n    </tr>\n    <tr>\n      <th>surface</th>\n      <td>8</td>\n    </tr>\n    <tr>\n      <th>total_chairs</th>\n      <td>28</td>\n    </tr>\n    <tr>\n      <th>Runs</th>\n      <td>97.0</td>\n    </tr>\n    <tr>\n      <th>TerrainParks</th>\n      <td>3.0</td>\n    </tr>\n    <tr>\n      <th>LongestRun_mi</th>\n      <td>5.5</td>\n    </tr>\n    <tr>\n      <th>SkiableTerrain_ac</th>\n      <td>4800.0</td>\n    </tr>\n    <tr>\n      <th>Snow Making_ac</th>\n      <td>3379.0</td>\n    </tr>\n    <tr>\n      <th>daysOpenLastYear</th>\n      <td>155.0</td>\n    </tr>\n    <tr>\n      <th>yearsOpen</th>\n      <td>64.0</td>\n    </tr>\n    <tr>\n      <th>averageSnowfall</th>\n      <td>360.0</td>\n    </tr>\n    <tr>\n      <th>AdultWeekday</th>\n      <td>NaN</td>\n    </tr>\n    <tr>\n      <th>AdultWeekend</th>\n      <td>NaN</td>\n    </tr>\n    <tr>\n      <th>projectedDaysOpen</th>\n      <td>157.0</td>\n    </tr>\n    <tr>\n      <th>NightSkiing_ac</th>\n      <td>NaN</td>\n    </tr>\n  </tbody>\n</table>\n</div>"
     },
     "execution_count": 40,
     "metadata": {},
     "output_type": "execute_result"
    }
   ],
   "source": [
    "ski_data[ski_data['Snow Making_ac'] > 3000].T"
   ]
  },
  {
   "cell_type": "markdown",
   "metadata": {},
   "source": [
    "You can adopt a similar approach as for the suspect skiable area value and do some spot checking. To save time, here is a link to the website for [Heavenly Mountain Resort](https://www.skiheavenly.com/the-mountain/about-the-mountain/mountain-info.aspx). From this you can glean that you have values for skiable terrain that agree. Furthermore, you can read that snowmaking covers 60% of the trails."
   ]
  },
  {
   "cell_type": "markdown",
   "metadata": {},
   "source": [
    "What, then, is your rough guess for the area covered by snowmaking?"
   ]
  },
  {
   "cell_type": "code",
   "execution_count": 43,
   "metadata": {
    "ExecuteTime": {
     "end_time": "2023-11-10T15:07:58.721565Z",
     "start_time": "2023-11-10T15:07:58.702401Z"
    }
   },
   "outputs": [
    {
     "name": "stdout",
     "output_type": "stream",
     "text": [
      "Snowmaking area estimate (60% of trails at Heavenly Mountain):  2880.0 acres\n"
     ]
    }
   ],
   "source": [
    "print(\"Snowmaking area estimate (60% of trails at Heavenly Mountain): \", 60/100 * 4800, \"acres\")"
   ]
  },
  {
   "cell_type": "markdown",
   "metadata": {},
   "source": [
    "This is less than the value of 3379 in your data so you may have a judgement call to make. However, notice something else. You have no ticket pricing information at all for this resort. Any further effort spent worrying about values for this resort will be wasted. You'll simply be dropping the entire row!"
   ]
  },
  {
   "cell_type": "markdown",
   "metadata": {},
   "source": [
    "##### 2.6.4.2.3 fastEight<a id='2.6.4.2.3_fastEight'></a>"
   ]
  },
  {
   "cell_type": "markdown",
   "metadata": {},
   "source": [
    "Look at the different fastEight values more closely:"
   ]
  },
  {
   "cell_type": "code",
   "execution_count": 44,
   "metadata": {
    "ExecuteTime": {
     "end_time": "2023-11-10T15:08:22.475252Z",
     "start_time": "2023-11-10T15:08:22.426502Z"
    }
   },
   "outputs": [
    {
     "data": {
      "text/plain": "0.0    163\n1.0      1\nName: fastEight, dtype: int64"
     },
     "execution_count": 44,
     "metadata": {},
     "output_type": "execute_result"
    }
   ],
   "source": [
    "ski_data.fastEight.value_counts()"
   ]
  },
  {
   "cell_type": "markdown",
   "metadata": {},
   "source": [
    "Drop the fastEight column in its entirety; half the values are missing and all but the others are the value zero. There is essentially no information in this column."
   ]
  },
  {
   "cell_type": "code",
   "execution_count": 45,
   "metadata": {
    "ExecuteTime": {
     "end_time": "2023-11-10T15:08:30.898497Z",
     "start_time": "2023-11-10T15:08:30.849020Z"
    }
   },
   "outputs": [],
   "source": [
    "#Code task 24#\n",
    "#Drop the 'fastEight' column from ski_data. Use inplace=True\n",
    "ski_data.drop(columns=\"fastEight\", inplace=True)"
   ]
  },
  {
   "cell_type": "markdown",
   "metadata": {},
   "source": [
    "What about yearsOpen? How many resorts have purportedly been open for more than 100 years?"
   ]
  },
  {
   "cell_type": "code",
   "execution_count": 46,
   "metadata": {
    "ExecuteTime": {
     "end_time": "2023-11-10T15:08:39.655984Z",
     "start_time": "2023-11-10T15:08:39.604153Z"
    }
   },
   "outputs": [
    {
     "data": {
      "text/plain": "34      104.0\n115    2019.0\nName: yearsOpen, dtype: float64"
     },
     "execution_count": 46,
     "metadata": {},
     "output_type": "execute_result"
    }
   ],
   "source": [
    "#Code task 25#\n",
    "#Filter the 'yearsOpen' column for values greater than 100\n",
    "ski_data.yearsOpen[ski_data.yearsOpen > 100]"
   ]
  },
  {
   "cell_type": "markdown",
   "metadata": {},
   "source": [
    "Okay, one seems to have been open for 104 years. But beyond that, one is down as having been open for 2019 years. This is wrong! What shall you do about this?"
   ]
  },
  {
   "cell_type": "markdown",
   "metadata": {},
   "source": [
    "What does the distribution of yearsOpen look like if you exclude just the obviously wrong one?"
   ]
  },
  {
   "cell_type": "code",
   "execution_count": 47,
   "metadata": {
    "ExecuteTime": {
     "end_time": "2023-11-10T15:08:53.843904Z",
     "start_time": "2023-11-10T15:08:53.746020Z"
    }
   },
   "outputs": [
    {
     "data": {
      "text/plain": "<Figure size 432x288 with 1 Axes>",
      "image/png": "[encoded data removed]"
     },
     "metadata": {
      "needs_background": "light"
     },
     "output_type": "display_data"
    }
   ],
   "source": [
    "#Code task 26#\n",
    "#Call the hist method on 'yearsOpen' after filtering for values under 1000\n",
    "#Pass the argument bins=30 to hist(), but feel free to explore other values\n",
    "ski_data.yearsOpen[ski_data.yearsOpen < 1000].hist(bins=30)\n",
    "plt.xlabel('Years open')\n",
    "plt.ylabel('Count')\n",
    "plt.title('Distribution of years open excluding 2019');"
   ]
  },
  {
   "cell_type": "markdown",
   "metadata": {},
   "source": [
    "The above distribution of years seems entirely plausible, including the 104 year value. You can certainly state that no resort will have been open for 2019 years! It likely means the resort opened in 2019. It could also mean the resort is due to open in 2019. You don't know when these data were gathered!"
   ]
  },
  {
   "cell_type": "markdown",
   "metadata": {},
   "source": [
    "Let's review the summary statistics for the years under 1000."
   ]
  },
  {
   "cell_type": "code",
   "execution_count": 48,
   "metadata": {
    "ExecuteTime": {
     "end_time": "2023-11-10T15:09:03.977008Z",
     "start_time": "2023-11-10T15:09:03.939066Z"
    }
   },
   "outputs": [
    {
     "data": {
      "text/plain": "count    328.000000\nmean      57.695122\nstd       16.841182\nmin        6.000000\n25%       50.000000\n50%       58.000000\n75%       68.250000\nmax      104.000000\nName: yearsOpen, dtype: float64"
     },
     "execution_count": 48,
     "metadata": {},
     "output_type": "execute_result"
    }
   ],
   "source": [
    "ski_data.yearsOpen[ski_data.yearsOpen < 1000].describe()"
   ]
  },
  {
   "cell_type": "markdown",
   "metadata": {},
   "source": [
    "The smallest number of years open otherwise is 6. You can't be sure whether this resort in question has been open zero years or one year and even whether the numbers are projections or actual. In any case, you would be adding a new youngest resort so it feels best to simply drop this row."
   ]
  },
  {
   "cell_type": "code",
   "execution_count": 49,
   "metadata": {
    "ExecuteTime": {
     "end_time": "2023-11-10T15:09:15.379413Z",
     "start_time": "2023-11-10T15:09:15.326040Z"
    }
   },
   "outputs": [
    {
     "name": "stdout",
     "output_type": "stream",
     "text": [
      "<class 'pandas.core.frame.DataFrame'>\n",
      "Int64Index: 328 entries, 0 to 329\n",
      "Data columns (total 26 columns):\n",
      " #   Column             Non-Null Count  Dtype  \n",
      "---  ------             --------------  -----  \n",
      " 0   Name               328 non-null    object \n",
      " 1   Region             328 non-null    object \n",
      " 2   state              328 non-null    object \n",
      " 3   summit_elev        328 non-null    int64  \n",
      " 4   vertical_drop      328 non-null    int64  \n",
      " 5   base_elev          328 non-null    int64  \n",
      " 6   trams              328 non-null    int64  \n",
      " 7   fastSixes          328 non-null    int64  \n",
      " 8   fastQuads          328 non-null    int64  \n",
      " 9   quad               328 non-null    int64  \n",
      " 10  triple             328 non-null    int64  \n",
      " 11  double             328 non-null    int64  \n",
      " 12  surface            328 non-null    int64  \n",
      " 13  total_chairs       328 non-null    int64  \n",
      " 14  Runs               324 non-null    float64\n",
      " 15  TerrainParks       277 non-null    float64\n",
      " 16  LongestRun_mi      323 non-null    float64\n",
      " 17  SkiableTerrain_ac  325 non-null    float64\n",
      " 18  Snow Making_ac     282 non-null    float64\n",
      " 19  daysOpenLastYear   279 non-null    float64\n",
      " 20  yearsOpen          328 non-null    float64\n",
      " 21  averageSnowfall    316 non-null    float64\n",
      " 22  AdultWeekday       274 non-null    float64\n",
      " 23  AdultWeekend       277 non-null    float64\n",
      " 24  projectedDaysOpen  283 non-null    float64\n",
      " 25  NightSkiing_ac     186 non-null    float64\n",
      "dtypes: float64(12), int64(11), object(3)\n",
      "memory usage: 69.2+ KB\n"
     ]
    }
   ],
   "source": [
    "ski_data = ski_data[ski_data.yearsOpen < 1000]\n",
    "ski_data.info()"
   ]
  },
  {
   "cell_type": "markdown",
   "metadata": {},
   "source": [
    "##### 2.6.4.2.4 fastSixes and Trams<a id='2.6.4.2.4_fastSixes_and_Trams'></a>"
   ]
  },
  {
   "cell_type": "markdown",
   "metadata": {},
   "source": [
    "The other features you had mild concern over, you will not investigate further. Perhaps take some care when using these features."
   ]
  },
  {
   "cell_type": "code",
   "execution_count": 50,
   "outputs": [
    {
     "data": {
      "text/plain": "<Figure size 432x288 with 1 Axes>",
      "image/png": "[encoded data removed]"
     },
     "metadata": {
      "needs_background": "light"
     },
     "output_type": "display_data"
    }
   ],
   "source": [
    "ski_data.fastSixes.hist(bins=len(ski_data.fastSixes.unique()) - 1)\n",
    "plt.xlabel('fastSixes')\n",
    "plt.ylabel('Count')\n",
    "plt.title('Distribution of Fast Six chairlift counts');"
   ],
   "metadata": {
    "collapsed": false,
    "ExecuteTime": {
     "end_time": "2023-11-10T15:09:20.407926Z",
     "start_time": "2023-11-10T15:09:20.319379Z"
    }
   }
  },
  {
   "cell_type": "code",
   "execution_count": 51,
   "outputs": [
    {
     "data": {
      "text/plain": "<Figure size 432x288 with 1 Axes>",
      "image/png": "[encoded data removed]"
     },
     "metadata": {
      "needs_background": "light"
     },
     "output_type": "display_data"
    }
   ],
   "source": [
    "ski_data.trams.hist(bins=len(ski_data.trams.unique()) - 1)\n",
    "plt.xlabel('Trams')\n",
    "plt.ylabel('Count')\n",
    "plt.title('Distribution of Tram counts');"
   ],
   "metadata": {
    "collapsed": false,
    "ExecuteTime": {
     "end_time": "2023-11-10T15:09:41.709563Z",
     "start_time": "2023-11-10T15:09:41.603028Z"
    }
   }
  },
  {
   "cell_type": "markdown",
   "metadata": {},
   "source": [
    "## 2.7 Derive State-wide Summary Statistics For Our Market Segment<a id='2.7_Derive_State-wide_Summary_Statistics_For_Our_Market_Segment'></a>"
   ]
  },
  {
   "cell_type": "markdown",
   "metadata": {},
   "source": [
    "You have, by this point removed one row, but it was for a resort that may not have opened yet, or perhaps in its first season. Using your business knowledge, you know that state-wide supply and demand of certain skiing resources may well factor into pricing strategies. Does a resort dominate the available night skiing in a state? Or does it account for a large proportion of the total skiable terrain or days open?\n",
    "\n",
    "If you want to add any features to your data that captures the state-wide market size, you should do this now, before dropping any more rows. In the next section, you'll drop rows with missing price information. Although you don't know what those resorts charge for their tickets, you do know the resorts exists and have been open for at least six years. Thus, you'll now calculate some state-wide summary statistics for later use."
   ]
  },
  {
   "cell_type": "markdown",
   "metadata": {},
   "source": [
    "Many features in your data pertain to chairlifts, that is for getting people around each resort. These aren't relevant, nor are the features relating to altitudes. Features that you may be interested in are:\n",
    "\n",
    "* TerrainParks\n",
    "* SkiableTerrain_ac\n",
    "* daysOpenLastYear\n",
    "* NightSkiing_ac\n",
    "\n",
    "When you think about it, these are features it makes sense to sum: the total number of terrain parks, the total skiable area, the total number of days open, and the total area available for night skiing. You might consider the total number of ski runs, but understand that the skiable area is more informative than just a number of runs."
   ]
  },
  {
   "cell_type": "markdown",
   "metadata": {},
   "source": [
    "A fairly new groupby behaviour is [named aggregation](https://pandas-docs.github.io/pandas-docs-travis/whatsnew/v0.25.0.html). This allows us to clearly perform the aggregations you want whilst also creating informative output column names."
   ]
  },
  {
   "cell_type": "code",
   "execution_count": 52,
   "metadata": {
    "ExecuteTime": {
     "end_time": "2023-11-10T15:10:02.521413Z",
     "start_time": "2023-11-10T15:10:02.432077Z"
    }
   },
   "outputs": [
    {
     "data": {
      "text/plain": "         state  resorts_per_state  state_total_skiable_area_ac  \\\n0       Alaska                  3                       2280.0   \n1      Arizona                  2                       1577.0   \n2   California                 21                      25948.0   \n3     Colorado                 22                      43682.0   \n4  Connecticut                  5                        358.0   \n\n   state_total_days_open  state_total_terrain_parks  \\\n0                  345.0                        4.0   \n1                  237.0                        6.0   \n2                 2738.0                       81.0   \n3                 3258.0                       74.0   \n4                  353.0                       10.0   \n\n   state_total_nightskiing_ac  \n0                       580.0  \n1                        80.0  \n2                       587.0  \n3                       428.0  \n4                       256.0  ",
      "text/html": "<div>\n<style scoped>\n    .dataframe tbody tr th:only-of-type {\n        vertical-align: middle;\n    }\n\n    .dataframe tbody tr th {\n        vertical-align: top;\n    }\n\n    .dataframe thead th {\n        text-align: right;\n    }\n</style>\n<table border=\"1\" class=\"dataframe\">\n  <thead>\n    <tr style=\"text-align: right;\">\n      <th></th>\n      <th>state</th>\n      <th>resorts_per_state</th>\n      <th>state_total_skiable_area_ac</th>\n      <th>state_total_days_open</th>\n      <th>state_total_terrain_parks</th>\n      <th>state_total_nightskiing_ac</th>\n    </tr>\n  </thead>\n  <tbody>\n    <tr>\n      <th>0</th>\n      <td>Alaska</td>\n      <td>3</td>\n      <td>2280.0</td>\n      <td>345.0</td>\n      <td>4.0</td>\n      <td>580.0</td>\n    </tr>\n    <tr>\n      <th>1</th>\n      <td>Arizona</td>\n      <td>2</td>\n      <td>1577.0</td>\n      <td>237.0</td>\n      <td>6.0</td>\n      <td>80.0</td>\n    </tr>\n    <tr>\n      <th>2</th>\n      <td>California</td>\n      <td>21</td>\n      <td>25948.0</td>\n      <td>2738.0</td>\n      <td>81.0</td>\n      <td>587.0</td>\n    </tr>\n    <tr>\n      <th>3</th>\n      <td>Colorado</td>\n      <td>22</td>\n      <td>43682.0</td>\n      <td>3258.0</td>\n      <td>74.0</td>\n      <td>428.0</td>\n    </tr>\n    <tr>\n      <th>4</th>\n      <td>Connecticut</td>\n      <td>5</td>\n      <td>358.0</td>\n      <td>353.0</td>\n      <td>10.0</td>\n      <td>256.0</td>\n    </tr>\n  </tbody>\n</table>\n</div>"
     },
     "execution_count": 52,
     "metadata": {},
     "output_type": "execute_result"
    }
   ],
   "source": [
    "#Code task 27#\n",
    "#Add named aggregations for the sum of 'daysOpenLastYear', 'TerrainParks', and 'NightSkiing_ac'\n",
    "#call them 'state_total_days_open', 'state_total_terrain_parks', and 'state_total_nightskiing_ac',\n",
    "#respectively\n",
    "#Finally, add a call to the reset_index() method (we recommend you experiment with and without this to see\n",
    "#what it does)\n",
    "state_summary = ski_data.groupby('state').agg(\n",
    "    resorts_per_state=pd.NamedAgg(column='Name', aggfunc='size'), #could pick any column here\n",
    "    state_total_skiable_area_ac=pd.NamedAgg(column='SkiableTerrain_ac', aggfunc='sum'),\n",
    "    state_total_days_open=pd.NamedAgg(column=\"daysOpenLastYear\", aggfunc='sum'),\n",
    "    state_total_terrain_parks=pd.NamedAgg(column=\"TerrainParks\", aggfunc='sum'),\n",
    "    state_total_nightskiing_ac=pd.NamedAgg(column=\"NightSkiing_ac\", aggfunc='sum')\n",
    ").reset_index()\n",
    "state_summary.head()"
   ]
  },
  {
   "cell_type": "markdown",
   "metadata": {},
   "source": [
    "## 2.8 Drop Rows With No Price Data<a id='2.8_Drop_Rows_With_No_Price_Data'></a>"
   ]
  },
  {
   "cell_type": "markdown",
   "metadata": {},
   "source": [
    "You know there are two columns that refer to price: 'AdultWeekend' and 'AdultWeekday'. You can calculate the number of price values missing per row. This will obviously have to be either 0, 1, or 2, where 0 denotes no price values are missing and 2 denotes that both are missing."
   ]
  },
  {
   "cell_type": "code",
   "execution_count": 53,
   "metadata": {
    "ExecuteTime": {
     "end_time": "2023-11-10T15:10:06.772936Z",
     "start_time": "2023-11-10T15:10:06.734636Z"
    }
   },
   "outputs": [
    {
     "data": {
      "text/plain": "0    82.317073\n2    14.329268\n1     3.353659\ndtype: float64"
     },
     "execution_count": 53,
     "metadata": {},
     "output_type": "execute_result"
    }
   ],
   "source": [
    "missing_price = ski_data[['AdultWeekend', 'AdultWeekday']].isnull().sum(axis=1)\n",
    "missing_price.value_counts()/len(missing_price) * 100"
   ]
  },
  {
   "cell_type": "markdown",
   "metadata": {},
   "source": [
    "About 14% of the rows have no price data. As the price is your target, these rows are of no use. Time to lose them."
   ]
  },
  {
   "cell_type": "code",
   "execution_count": 54,
   "metadata": {
    "ExecuteTime": {
     "end_time": "2023-11-10T15:10:09.128291Z",
     "start_time": "2023-11-10T15:10:09.101983Z"
    }
   },
   "outputs": [],
   "source": [
    "#Code task 28#\n",
    "#Use `missing_price` to remove rows from ski_data where both price values are missing\n",
    "ski_data = ski_data[missing_price != 2]"
   ]
  },
  {
   "cell_type": "code",
   "execution_count": 55,
   "outputs": [
    {
     "name": "stdout",
     "output_type": "stream",
     "text": [
      "<class 'pandas.core.frame.DataFrame'>\n",
      "Int64Index: 281 entries, 0 to 329\n",
      "Data columns (total 26 columns):\n",
      " #   Column             Non-Null Count  Dtype  \n",
      "---  ------             --------------  -----  \n",
      " 0   Name               281 non-null    object \n",
      " 1   Region             281 non-null    object \n",
      " 2   state              281 non-null    object \n",
      " 3   summit_elev        281 non-null    int64  \n",
      " 4   vertical_drop      281 non-null    int64  \n",
      " 5   base_elev          281 non-null    int64  \n",
      " 6   trams              281 non-null    int64  \n",
      " 7   fastSixes          281 non-null    int64  \n",
      " 8   fastQuads          281 non-null    int64  \n",
      " 9   quad               281 non-null    int64  \n",
      " 10  triple             281 non-null    int64  \n",
      " 11  double             281 non-null    int64  \n",
      " 12  surface            281 non-null    int64  \n",
      " 13  total_chairs       281 non-null    int64  \n",
      " 14  Runs               278 non-null    float64\n",
      " 15  TerrainParks       237 non-null    float64\n",
      " 16  LongestRun_mi      276 non-null    float64\n",
      " 17  SkiableTerrain_ac  279 non-null    float64\n",
      " 18  Snow Making_ac     244 non-null    float64\n",
      " 19  daysOpenLastYear   237 non-null    float64\n",
      " 20  yearsOpen          281 non-null    float64\n",
      " 21  averageSnowfall    272 non-null    float64\n",
      " 22  AdultWeekday       274 non-null    float64\n",
      " 23  AdultWeekend       277 non-null    float64\n",
      " 24  projectedDaysOpen  240 non-null    float64\n",
      " 25  NightSkiing_ac     166 non-null    float64\n",
      "dtypes: float64(12), int64(11), object(3)\n",
      "memory usage: 59.3+ KB\n"
     ]
    }
   ],
   "source": [
    "ski_data.info()"
   ],
   "metadata": {
    "collapsed": false,
    "ExecuteTime": {
     "end_time": "2023-11-10T15:10:10.017654Z",
     "start_time": "2023-11-10T15:10:09.983024Z"
    }
   }
  },
  {
   "cell_type": "markdown",
   "metadata": {},
   "source": [
    "## 2.9 Review distributions<a id='2.9_Review_distributions'></a>"
   ]
  },
  {
   "cell_type": "code",
   "execution_count": 61,
   "metadata": {
    "ExecuteTime": {
     "end_time": "2023-11-10T15:13:51.665510Z",
     "start_time": "2023-11-10T15:13:50.386159Z"
    }
   },
   "outputs": [
    {
     "data": {
      "text/plain": "<Figure size 1080x720 with 25 Axes>",
      "image/png": "[encoded data removed]"
     },
     "metadata": {
      "needs_background": "light"
     },
     "output_type": "display_data"
    }
   ],
   "source": [
    "ski_data.sort_index(axis=1)\\\n",
    "        .hist(figsize=(15, 10))\n",
    "\n",
    "plt.subplots_adjust(hspace=0.5);"
   ]
  },
  {
   "cell_type": "markdown",
   "metadata": {},
   "source": [
    "These distributions are much better. There are clearly some skewed distributions, so keep an eye on `fastQuads`, `fastSixes`, and perhaps `trams`. These lack much variance away from 0 and may have a small number of relatively extreme values.  Models failing to rate a feature as important when domain knowledge tells you it should be is an issue to look out for, as is a model being overly influenced by some extreme values. If you build a good machine learning pipeline, hopefully it will be robust to such issues, but you may also wish to consider nonlinear transformations of features."
   ]
  },
  {
   "cell_type": "markdown",
   "metadata": {},
   "source": [
    "## 2.10 Population data<a id='2.10_Population_data'></a>"
   ]
  },
  {
   "cell_type": "markdown",
   "metadata": {},
   "source": [
    "Population and area data for the US states can be obtained from [wikipedia](https://simple.wikipedia.org/wiki/List_of_U.S._states). Listen, you should have a healthy concern about using data you \"found on the Internet\". Make sure it comes from a reputable source. This table of data is useful because it allows you to easily pull and incorporate an external data set. It also allows you to proceed with an analysis that includes state sizes and populations for your 'first cut' model. Be explicit about your source (we documented it here in this workflow) and ensure it is open to inspection. All steps are subject to review, and it may be that a client has a specific source of data they trust that you should use to rerun the analysis."
   ]
  },
  {
   "cell_type": "code",
   "execution_count": 63,
   "metadata": {
    "ExecuteTime": {
     "end_time": "2023-11-13T21:46:44.615307Z",
     "start_time": "2023-11-13T21:46:42.758669Z"
    }
   },
   "outputs": [],
   "source": [
    "#Code task 29#\n",
    "#Use pandas' `read_html` method to read the table from the URL below\n",
    "states_url = 'https://simple.wikipedia.org/w/index.php?title=List_of_U.S._states&oldid=7168473'\n",
    "usa_states = pd.read_html(states_url)"
   ]
  },
  {
   "cell_type": "code",
   "execution_count": 64,
   "metadata": {
    "ExecuteTime": {
     "end_time": "2023-11-13T21:47:59.239727Z",
     "start_time": "2023-11-13T21:47:59.217677Z"
    }
   },
   "outputs": [
    {
     "data": {
      "text/plain": "list"
     },
     "execution_count": 64,
     "metadata": {},
     "output_type": "execute_result"
    }
   ],
   "source": [
    "type(usa_states)"
   ]
  },
  {
   "cell_type": "code",
   "execution_count": 65,
   "metadata": {
    "ExecuteTime": {
     "end_time": "2023-11-13T21:48:02.202877Z",
     "start_time": "2023-11-13T21:48:02.163429Z"
    }
   },
   "outputs": [
    {
     "data": {
      "text/plain": "1"
     },
     "execution_count": 65,
     "metadata": {},
     "output_type": "execute_result"
    }
   ],
   "source": [
    "len(usa_states)"
   ]
  },
  {
   "cell_type": "code",
   "execution_count": 66,
   "metadata": {
    "ExecuteTime": {
     "end_time": "2023-11-13T21:48:31.133528Z",
     "start_time": "2023-11-13T21:48:31.097476Z"
    }
   },
   "outputs": [
    {
     "data": {
      "text/plain": "  Name & postal abbs. [1]                                 Cities               \\\n  Name & postal abbs. [1] Name & postal abbs. [1].1      Capital   Largest[5]   \n0                 Alabama                        AL   Montgomery   Birmingham   \n1                  Alaska                        AK       Juneau    Anchorage   \n2                 Arizona                        AZ      Phoenix      Phoenix   \n3                Arkansas                        AR  Little Rock  Little Rock   \n4              California                        CA   Sacramento  Los Angeles   \n\n  Established[A] Population [B][3] Total area[4]          Land area[4]  \\\n  Established[A] Population [B][3]           mi2      km2          mi2   \n0   Dec 14, 1819           4903185         52420   135767        50645   \n1    Jan 3, 1959            731545        665384  1723337       570641   \n2   Feb 14, 1912           7278717        113990   295234       113594   \n3   Jun 15, 1836           3017804         53179   137732        52035   \n4    Sep 9, 1850          39512223        163695   423967       155779   \n\n           Water area[4]         Number of Reps.  \n       km2           mi2     km2 Number of Reps.  \n0   131171          1775    4597               7  \n1  1477953         94743  245384               1  \n2   294207           396    1026               9  \n3   134771          1143    2961               4  \n4   403466          7916   20501              53  ",
      "text/html": "<div>\n<style scoped>\n    .dataframe tbody tr th:only-of-type {\n        vertical-align: middle;\n    }\n\n    .dataframe tbody tr th {\n        vertical-align: top;\n    }\n\n    .dataframe thead tr th {\n        text-align: left;\n    }\n</style>\n<table border=\"1\" class=\"dataframe\">\n  <thead>\n    <tr>\n      <th></th>\n      <th colspan=\"2\" halign=\"left\">Name &amp; postal abbs. [1]</th>\n      <th colspan=\"2\" halign=\"left\">Cities</th>\n      <th>Established[A]</th>\n      <th>Population [B][3]</th>\n      <th colspan=\"2\" halign=\"left\">Total area[4]</th>\n      <th colspan=\"2\" halign=\"left\">Land area[4]</th>\n      <th colspan=\"2\" halign=\"left\">Water area[4]</th>\n      <th>Number of Reps.</th>\n    </tr>\n    <tr>\n      <th></th>\n      <th>Name &amp; postal abbs. [1]</th>\n      <th>Name &amp; postal abbs. [1].1</th>\n      <th>Capital</th>\n      <th>Largest[5]</th>\n      <th>Established[A]</th>\n      <th>Population [B][3]</th>\n      <th>mi2</th>\n      <th>km2</th>\n      <th>mi2</th>\n      <th>km2</th>\n      <th>mi2</th>\n      <th>km2</th>\n      <th>Number of Reps.</th>\n    </tr>\n  </thead>\n  <tbody>\n    <tr>\n      <th>0</th>\n      <td>Alabama</td>\n      <td>AL</td>\n      <td>Montgomery</td>\n      <td>Birmingham</td>\n      <td>Dec 14, 1819</td>\n      <td>4903185</td>\n      <td>52420</td>\n      <td>135767</td>\n      <td>50645</td>\n      <td>131171</td>\n      <td>1775</td>\n      <td>4597</td>\n      <td>7</td>\n    </tr>\n    <tr>\n      <th>1</th>\n      <td>Alaska</td>\n      <td>AK</td>\n      <td>Juneau</td>\n      <td>Anchorage</td>\n      <td>Jan 3, 1959</td>\n      <td>731545</td>\n      <td>665384</td>\n      <td>1723337</td>\n      <td>570641</td>\n      <td>1477953</td>\n      <td>94743</td>\n      <td>245384</td>\n      <td>1</td>\n    </tr>\n    <tr>\n      <th>2</th>\n      <td>Arizona</td>\n      <td>AZ</td>\n      <td>Phoenix</td>\n      <td>Phoenix</td>\n      <td>Feb 14, 1912</td>\n      <td>7278717</td>\n      <td>113990</td>\n      <td>295234</td>\n      <td>113594</td>\n      <td>294207</td>\n      <td>396</td>\n      <td>1026</td>\n      <td>9</td>\n    </tr>\n    <tr>\n      <th>3</th>\n      <td>Arkansas</td>\n      <td>AR</td>\n      <td>Little Rock</td>\n      <td>Little Rock</td>\n      <td>Jun 15, 1836</td>\n      <td>3017804</td>\n      <td>53179</td>\n      <td>137732</td>\n      <td>52035</td>\n      <td>134771</td>\n      <td>1143</td>\n      <td>2961</td>\n      <td>4</td>\n    </tr>\n    <tr>\n      <th>4</th>\n      <td>California</td>\n      <td>CA</td>\n      <td>Sacramento</td>\n      <td>Los Angeles</td>\n      <td>Sep 9, 1850</td>\n      <td>39512223</td>\n      <td>163695</td>\n      <td>423967</td>\n      <td>155779</td>\n      <td>403466</td>\n      <td>7916</td>\n      <td>20501</td>\n      <td>53</td>\n    </tr>\n  </tbody>\n</table>\n</div>"
     },
     "execution_count": 66,
     "metadata": {},
     "output_type": "execute_result"
    }
   ],
   "source": [
    "usa_states = usa_states[0]\n",
    "usa_states.head()"
   ]
  },
  {
   "cell_type": "markdown",
   "metadata": {},
   "source": [
    "Note, in even the last year, the capability of `pd.read_html()` has improved. The merged cells you see in the web table are now handled much more conveniently, with 'Phoenix' now being duplicated so the subsequent columns remain aligned. But check this anyway. If you extract the established date column, you should just get dates. Recall previously you used the `.loc` accessor, because you were using labels. Now you want to refer to a column by its index position and so use `.iloc`. For a discussion on the difference use cases of `.loc` and `.iloc` refer to the [pandas documentation](https://pandas.pydata.org/pandas-docs/stable/user_guide/indexing.html)."
   ]
  },
  {
   "cell_type": "code",
   "execution_count": 68,
   "metadata": {
    "ExecuteTime": {
     "end_time": "2023-11-16T16:06:11.596823Z",
     "start_time": "2023-11-16T16:06:11.571862Z"
    }
   },
   "outputs": [],
   "source": [
    "#Code task 30#\n",
    "#Use the iloc accessor to get the pandas Series for column number 4 from `usa_states`\n",
    "#It should be a column of dates\n",
    "established = usa_states.iloc[:, 4]"
   ]
  },
  {
   "cell_type": "code",
   "execution_count": 69,
   "metadata": {
    "ExecuteTime": {
     "end_time": "2023-11-16T16:06:15.265405Z",
     "start_time": "2023-11-16T16:06:15.213470Z"
    }
   },
   "outputs": [
    {
     "data": {
      "text/plain": "0     Dec 14, 1819\n1      Jan 3, 1959\n2     Feb 14, 1912\n3     Jun 15, 1836\n4      Sep 9, 1850\n5      Aug 1, 1876\n6      Jan 9, 1788\n7      Dec 7, 1787\n8      Mar 3, 1845\n9      Jan 2, 1788\n10    Aug 21, 1959\n11     Jul 3, 1890\n12     Dec 3, 1818\n13    Dec 11, 1816\n14    Dec 28, 1846\n15    Jan 29, 1861\n16     Jun 1, 1792\n17    Apr 30, 1812\n18    Mar 15, 1820\n19    Apr 28, 1788\n20     Feb 6, 1788\n21    Jan 26, 1837\n22    May 11, 1858\n23    Dec 10, 1817\n24    Aug 10, 1821\n25     Nov 8, 1889\n26     Mar 1, 1867\n27    Oct 31, 1864\n28    Jun 21, 1788\n29    Dec 18, 1787\n30     Jan 6, 1912\n31    Jul 26, 1788\n32    Nov 21, 1789\n33     Nov 2, 1889\n34     Mar 1, 1803\n35    Nov 16, 1907\n36    Feb 14, 1859\n37    Dec 12, 1787\n38    May 29, 1790\n39    May 23, 1788\n40     Nov 2, 1889\n41     Jun 1, 1796\n42    Dec 29, 1845\n43     Jan 4, 1896\n44     Mar 4, 1791\n45    Jun 25, 1788\n46    Nov 11, 1889\n47    Jun 20, 1863\n48    May 29, 1848\n49    Jul 10, 1890\nName: (Established[A], Established[A]), dtype: object"
     },
     "execution_count": 69,
     "metadata": {},
     "output_type": "execute_result"
    }
   ],
   "source": [
    "established"
   ]
  },
  {
   "cell_type": "markdown",
   "metadata": {},
   "source": [
    "Extract the state name, population, and total area (square miles) columns."
   ]
  },
  {
   "cell_type": "code",
   "execution_count": 72,
   "metadata": {
    "ExecuteTime": {
     "end_time": "2023-11-16T16:12:16.606036Z",
     "start_time": "2023-11-16T16:12:16.585914Z"
    }
   },
   "outputs": [
    {
     "data": {
      "text/plain": "        state  state_population  state_area_sq_miles\n0     Alabama           4903185                52420\n1      Alaska            731545               665384\n2     Arizona           7278717               113990\n3    Arkansas           3017804                53179\n4  California          39512223               163695",
      "text/html": "<div>\n<style scoped>\n    .dataframe tbody tr th:only-of-type {\n        vertical-align: middle;\n    }\n\n    .dataframe tbody tr th {\n        vertical-align: top;\n    }\n\n    .dataframe thead th {\n        text-align: right;\n    }\n</style>\n<table border=\"1\" class=\"dataframe\">\n  <thead>\n    <tr style=\"text-align: right;\">\n      <th></th>\n      <th>state</th>\n      <th>state_population</th>\n      <th>state_area_sq_miles</th>\n    </tr>\n  </thead>\n  <tbody>\n    <tr>\n      <th>0</th>\n      <td>Alabama</td>\n      <td>4903185</td>\n      <td>52420</td>\n    </tr>\n    <tr>\n      <th>1</th>\n      <td>Alaska</td>\n      <td>731545</td>\n      <td>665384</td>\n    </tr>\n    <tr>\n      <th>2</th>\n      <td>Arizona</td>\n      <td>7278717</td>\n      <td>113990</td>\n    </tr>\n    <tr>\n      <th>3</th>\n      <td>Arkansas</td>\n      <td>3017804</td>\n      <td>53179</td>\n    </tr>\n    <tr>\n      <th>4</th>\n      <td>California</td>\n      <td>39512223</td>\n      <td>163695</td>\n    </tr>\n  </tbody>\n</table>\n</div>"
     },
     "execution_count": 72,
     "metadata": {},
     "output_type": "execute_result"
    }
   ],
   "source": [
    "#Code task 31#\n",
    "#Now use the iloc accessor again to extract columns 0, 5, and 6 and the dataframe's `copy()` method\n",
    "#Set the names of these extracted columns to 'state', 'state_population', and 'state_area_sq_miles',\n",
    "#respectively.\n",
    "usa_states_sub = usa_states.iloc[:, [0, 5, 6]].copy()\n",
    "usa_states_sub.columns = [\"state\", \"state_population\", \"state_area_sq_miles\"]\n",
    "usa_states_sub.head()"
   ]
  },
  {
   "cell_type": "markdown",
   "metadata": {},
   "source": [
    "Do you have all the ski data states accounted for?"
   ]
  },
  {
   "cell_type": "code",
   "execution_count": 81,
   "metadata": {
    "ExecuteTime": {
     "end_time": "2023-11-16T16:14:42.066655Z",
     "start_time": "2023-11-16T16:14:42.041605Z"
    }
   },
   "outputs": [
    {
     "data": {
      "text/plain": "{'Massachusetts', 'Pennsylvania', 'Rhode Island', 'Virginia'}"
     },
     "execution_count": 81,
     "metadata": {},
     "output_type": "execute_result"
    }
   ],
   "source": [
    "#Code task 32#\n",
    "#Find the states in `state_summary` that are not in `usa_states_sub`\n",
    "#Hint: set(list1) - set(list2) is an easy way to get items in list1 that are not in list2\n",
    "missing_states = set(state_summary.state) - set(usa_states_sub.state)\n",
    "missing_states"
   ]
  },
  {
   "cell_type": "markdown",
   "metadata": {},
   "source": [
    "No, four are missing."
   ]
  },
  {
   "cell_type": "markdown",
   "metadata": {},
   "source": [
    "If you look at the table on the web, you can perhaps start to guess what the problem is. You can confirm your suspicion by pulling out state names that _contain_ 'Massachusetts', 'Pennsylvania', or 'Virginia' from usa_states_sub:"
   ]
  },
  {
   "cell_type": "code",
   "execution_count": 82,
   "metadata": {
    "ExecuteTime": {
     "end_time": "2023-11-16T16:15:31.120627Z",
     "start_time": "2023-11-16T16:15:31.084901Z"
    }
   },
   "outputs": [
    {
     "data": {
      "text/plain": "20    Massachusetts[C]\n37     Pennsylvania[C]\n38     Rhode Island[D]\n45         Virginia[C]\n47       West Virginia\nName: state, dtype: object"
     },
     "execution_count": 82,
     "metadata": {},
     "output_type": "execute_result"
    }
   ],
   "source": [
    "usa_states_sub.state[usa_states_sub.state.str.contains('Massachusetts|Pennsylvania|Rhode Island|Virginia')]"
   ]
  },
  {
   "cell_type": "markdown",
   "metadata": {},
   "source": [
    "Delete square brackets and their contents and try again:"
   ]
  },
  {
   "cell_type": "code",
   "execution_count": 83,
   "metadata": {
    "ExecuteTime": {
     "end_time": "2023-11-16T16:16:24.370950Z",
     "start_time": "2023-11-16T16:16:24.343236Z"
    }
   },
   "outputs": [
    {
     "data": {
      "text/plain": "20    Massachusetts\n37     Pennsylvania\n38     Rhode Island\n45         Virginia\n47    West Virginia\nName: state, dtype: object"
     },
     "execution_count": 83,
     "metadata": {},
     "output_type": "execute_result"
    }
   ],
   "source": [
    "#Code task 33#\n",
    "#Use pandas' Series' `replace()` method to replace anything within square brackets (including the brackets)\n",
    "#with the empty string. Do this inplace, so you need to specify the arguments:\n",
    "#to_replace='\\[.*\\]' #literal square bracket followed by anything or nothing followed by literal closing bracket\n",
    "#value='' #empty string as replacement\n",
    "#regex=True #we used a regex in our `to_replace` argument\n",
    "#inplace=True #Do this \"in place\"\n",
    "usa_states_sub.state.replace(to_replace=\"\\[.*\\]\", value=\"\", regex=True, inplace=True)\n",
    "usa_states_sub.state[usa_states_sub.state.str.contains('Massachusetts|Pennsylvania|Rhode Island|Virginia')]"
   ]
  },
  {
   "cell_type": "code",
   "execution_count": 84,
   "metadata": {
    "ExecuteTime": {
     "end_time": "2023-11-16T16:16:41.474050Z",
     "start_time": "2023-11-16T16:16:41.444828Z"
    }
   },
   "outputs": [
    {
     "data": {
      "text/plain": "set()"
     },
     "execution_count": 84,
     "metadata": {},
     "output_type": "execute_result"
    }
   ],
   "source": [
    "#Code task 34#\n",
    "#And now verify none of our states are missing by checking that there are no states in\n",
    "#state_summary that are not in usa_states_sub (as earlier using `set()`)\n",
    "missing_states = set(state_summary.state) - set(usa_states_sub.state)\n",
    "missing_states"
   ]
  },
  {
   "cell_type": "markdown",
   "metadata": {},
   "source": [
    "Better! You have an empty set for missing states now. You can confidently add the population and state area columns to the ski resort data."
   ]
  },
  {
   "cell_type": "code",
   "execution_count": 85,
   "metadata": {
    "ExecuteTime": {
     "end_time": "2023-11-16T16:19:04.262492Z",
     "start_time": "2023-11-16T16:19:04.218095Z"
    }
   },
   "outputs": [
    {
     "data": {
      "text/plain": "         state  resorts_per_state  state_total_skiable_area_ac  \\\n0       Alaska                  3                       2280.0   \n1      Arizona                  2                       1577.0   \n2   California                 21                      25948.0   \n3     Colorado                 22                      43682.0   \n4  Connecticut                  5                        358.0   \n\n   state_total_days_open  state_total_terrain_parks  \\\n0                  345.0                        4.0   \n1                  237.0                        6.0   \n2                 2738.0                       81.0   \n3                 3258.0                       74.0   \n4                  353.0                       10.0   \n\n   state_total_nightskiing_ac  state_population  state_area_sq_miles  \n0                       580.0            731545               665384  \n1                        80.0           7278717               113990  \n2                       587.0          39512223               163695  \n3                       428.0           5758736               104094  \n4                       256.0           3565278                 5543  ",
      "text/html": "<div>\n<style scoped>\n    .dataframe tbody tr th:only-of-type {\n        vertical-align: middle;\n    }\n\n    .dataframe tbody tr th {\n        vertical-align: top;\n    }\n\n    .dataframe thead th {\n        text-align: right;\n    }\n</style>\n<table border=\"1\" class=\"dataframe\">\n  <thead>\n    <tr style=\"text-align: right;\">\n      <th></th>\n      <th>state</th>\n      <th>resorts_per_state</th>\n      <th>state_total_skiable_area_ac</th>\n      <th>state_total_days_open</th>\n      <th>state_total_terrain_parks</th>\n      <th>state_total_nightskiing_ac</th>\n      <th>state_population</th>\n      <th>state_area_sq_miles</th>\n    </tr>\n  </thead>\n  <tbody>\n    <tr>\n      <th>0</th>\n      <td>Alaska</td>\n      <td>3</td>\n      <td>2280.0</td>\n      <td>345.0</td>\n      <td>4.0</td>\n      <td>580.0</td>\n      <td>731545</td>\n      <td>665384</td>\n    </tr>\n    <tr>\n      <th>1</th>\n      <td>Arizona</td>\n      <td>2</td>\n      <td>1577.0</td>\n      <td>237.0</td>\n      <td>6.0</td>\n      <td>80.0</td>\n      <td>7278717</td>\n      <td>113990</td>\n    </tr>\n    <tr>\n      <th>2</th>\n      <td>California</td>\n      <td>21</td>\n      <td>25948.0</td>\n      <td>2738.0</td>\n      <td>81.0</td>\n      <td>587.0</td>\n      <td>39512223</td>\n      <td>163695</td>\n    </tr>\n    <tr>\n      <th>3</th>\n      <td>Colorado</td>\n      <td>22</td>\n      <td>43682.0</td>\n      <td>3258.0</td>\n      <td>74.0</td>\n      <td>428.0</td>\n      <td>5758736</td>\n      <td>104094</td>\n    </tr>\n    <tr>\n      <th>4</th>\n      <td>Connecticut</td>\n      <td>5</td>\n      <td>358.0</td>\n      <td>353.0</td>\n      <td>10.0</td>\n      <td>256.0</td>\n      <td>3565278</td>\n      <td>5543</td>\n    </tr>\n  </tbody>\n</table>\n</div>"
     },
     "execution_count": 85,
     "metadata": {},
     "output_type": "execute_result"
    }
   ],
   "source": [
    "#Code task 35#\n",
    "#Use 'state_summary's `merge()` method to combine our new data in 'usa_states_sub'\n",
    "#specify the arguments how='left' and on='state'\n",
    "state_summary = state_summary.merge(usa_states_sub, how=\"left\", on=\"state\")\n",
    "state_summary.head()"
   ]
  },
  {
   "cell_type": "markdown",
   "metadata": {},
   "source": [
    "Having created this data frame of summary statistics for various states, it would seem obvious to join this with the ski resort data to augment it with this additional data. You will do this, but not now. In the next notebook you will be exploring the data, including the relationships between the states. For that you want a separate row for each state, as you have here, and joining the data this soon means you'd need to separate and eliminate redundances in the state data when you wanted it."
   ]
  },
  {
   "cell_type": "markdown",
   "metadata": {},
   "source": [
    "## 2.11 Target Feature<a id='2.11_Target_Feature'></a>"
   ]
  },
  {
   "cell_type": "markdown",
   "metadata": {},
   "source": [
    "Finally, what will your target be when modelling ticket price? What relationship is there between weekday and weekend prices?"
   ]
  },
  {
   "cell_type": "code",
   "execution_count": 86,
   "metadata": {
    "ExecuteTime": {
     "end_time": "2023-11-16T16:20:58.551236Z",
     "start_time": "2023-11-16T16:20:58.429423Z"
    }
   },
   "outputs": [
    {
     "data": {
      "text/plain": "<Figure size 432x288 with 1 Axes>",
      "image/png": "[encoded data removed]"
     },
     "metadata": {
      "needs_background": "light"
     },
     "output_type": "display_data"
    }
   ],
   "source": [
    "#Code task 36#\n",
    "#Use ski_data's `plot()` method to create a scatterplot (kind='scatter') with 'AdultWeekday' on the x-axis and\n",
    "#'AdultWeekend' on the y-axis\n",
    "ski_data.plot(x=\"AdultWeekday\", y=\"AdultWeekend\", kind=\"scatter\");"
   ]
  },
  {
   "cell_type": "markdown",
   "metadata": {},
   "source": [
    "A couple of observations can be made. Firstly, there is a clear line where weekend and weekday prices are equal. Weekend prices being higher than weekday prices seem restricted to sub $100 resorts. Recall from the boxplot earlier that the distribution for weekday and weekend prices in Montana seemed equal. Is this confirmed in the actual data for each resort? Big Mountain resort is in Montana, so the relationship between these quantities in this state are particularly relevant."
   ]
  },
  {
   "cell_type": "code",
   "execution_count": 88,
   "metadata": {
    "ExecuteTime": {
     "end_time": "2023-11-16T16:22:04.961554Z",
     "start_time": "2023-11-16T16:22:04.942003Z"
    }
   },
   "outputs": [
    {
     "data": {
      "text/plain": "     AdultWeekend  AdultWeekday\n141          42.0          42.0\n142          63.0          63.0\n143          49.0          49.0\n144          48.0          48.0\n145          46.0          46.0\n146          39.0          39.0\n147          50.0          50.0\n148          67.0          67.0\n149          47.0          47.0\n150          39.0          39.0\n151          81.0          81.0",
      "text/html": "<div>\n<style scoped>\n    .dataframe tbody tr th:only-of-type {\n        vertical-align: middle;\n    }\n\n    .dataframe tbody tr th {\n        vertical-align: top;\n    }\n\n    .dataframe thead th {\n        text-align: right;\n    }\n</style>\n<table border=\"1\" class=\"dataframe\">\n  <thead>\n    <tr style=\"text-align: right;\">\n      <th></th>\n      <th>AdultWeekend</th>\n      <th>AdultWeekday</th>\n    </tr>\n  </thead>\n  <tbody>\n    <tr>\n      <th>141</th>\n      <td>42.0</td>\n      <td>42.0</td>\n    </tr>\n    <tr>\n      <th>142</th>\n      <td>63.0</td>\n      <td>63.0</td>\n    </tr>\n    <tr>\n      <th>143</th>\n      <td>49.0</td>\n      <td>49.0</td>\n    </tr>\n    <tr>\n      <th>144</th>\n      <td>48.0</td>\n      <td>48.0</td>\n    </tr>\n    <tr>\n      <th>145</th>\n      <td>46.0</td>\n      <td>46.0</td>\n    </tr>\n    <tr>\n      <th>146</th>\n      <td>39.0</td>\n      <td>39.0</td>\n    </tr>\n    <tr>\n      <th>147</th>\n      <td>50.0</td>\n      <td>50.0</td>\n    </tr>\n    <tr>\n      <th>148</th>\n      <td>67.0</td>\n      <td>67.0</td>\n    </tr>\n    <tr>\n      <th>149</th>\n      <td>47.0</td>\n      <td>47.0</td>\n    </tr>\n    <tr>\n      <th>150</th>\n      <td>39.0</td>\n      <td>39.0</td>\n    </tr>\n    <tr>\n      <th>151</th>\n      <td>81.0</td>\n      <td>81.0</td>\n    </tr>\n  </tbody>\n</table>\n</div>"
     },
     "execution_count": 88,
     "metadata": {},
     "output_type": "execute_result"
    }
   ],
   "source": [
    "#Code task 37#\n",
    "#Use the loc accessor on ski_data to print the 'AdultWeekend' and 'AdultWeekday' columns for Montana only\n",
    "ski_data.loc[ski_data.state == \"Montana\", [\"AdultWeekend\", \"AdultWeekday\"]]"
   ]
  },
  {
   "cell_type": "markdown",
   "metadata": {},
   "source": [
    "Is there any reason to prefer weekend or weekday prices? Which is missing the least?"
   ]
  },
  {
   "cell_type": "code",
   "execution_count": 89,
   "metadata": {
    "ExecuteTime": {
     "end_time": "2023-11-16T16:22:20.000034Z",
     "start_time": "2023-11-16T16:22:19.964242Z"
    }
   },
   "outputs": [
    {
     "data": {
      "text/plain": "AdultWeekend    4\nAdultWeekday    7\ndtype: int64"
     },
     "execution_count": 89,
     "metadata": {},
     "output_type": "execute_result"
    }
   ],
   "source": [
    "ski_data[['AdultWeekend', 'AdultWeekday']].isnull().sum()"
   ]
  },
  {
   "cell_type": "markdown",
   "metadata": {},
   "source": [
    "Weekend prices have the least missing values of the two, so drop the weekday prices and then keep just the rows that have weekend price."
   ]
  },
  {
   "cell_type": "code",
   "execution_count": 90,
   "metadata": {
    "ExecuteTime": {
     "end_time": "2023-11-16T16:22:49.326237Z",
     "start_time": "2023-11-16T16:22:49.295957Z"
    }
   },
   "outputs": [],
   "source": [
    "ski_data.drop(columns='AdultWeekday', inplace=True)\n",
    "ski_data.dropna(subset=['AdultWeekend'], inplace=True)"
   ]
  },
  {
   "cell_type": "code",
   "execution_count": 91,
   "metadata": {
    "ExecuteTime": {
     "end_time": "2023-11-16T16:22:49.932790Z",
     "start_time": "2023-11-16T16:22:49.900709Z"
    }
   },
   "outputs": [
    {
     "data": {
      "text/plain": "(277, 25)"
     },
     "execution_count": 91,
     "metadata": {},
     "output_type": "execute_result"
    }
   ],
   "source": [
    "ski_data.shape"
   ]
  },
  {
   "cell_type": "markdown",
   "metadata": {},
   "source": [
    "Perform a final quick check on the data."
   ]
  },
  {
   "cell_type": "markdown",
   "metadata": {},
   "source": [
    "### 2.11.1 Number Of Missing Values By Row - Resort<a id='2.11.1_Number_Of_Missing_Values_By_Row_-_Resort'></a>"
   ]
  },
  {
   "cell_type": "markdown",
   "metadata": {},
   "source": [
    "Having dropped rows missing the desired target ticket price, what degree of missingness do you have for the remaining rows?"
   ]
  },
  {
   "cell_type": "code",
   "execution_count": 92,
   "metadata": {
    "ExecuteTime": {
     "end_time": "2023-11-16T16:23:41.681293Z",
     "start_time": "2023-11-16T16:23:41.630426Z"
    }
   },
   "outputs": [
    {
     "data": {
      "text/plain": "     count     %\n329      5  20.0\n62       5  20.0\n141      5  20.0\n86       5  20.0\n74       5  20.0\n146      5  20.0\n184      4  16.0\n108      4  16.0\n198      4  16.0\n39       4  16.0",
      "text/html": "<div>\n<style scoped>\n    .dataframe tbody tr th:only-of-type {\n        vertical-align: middle;\n    }\n\n    .dataframe tbody tr th {\n        vertical-align: top;\n    }\n\n    .dataframe thead th {\n        text-align: right;\n    }\n</style>\n<table border=\"1\" class=\"dataframe\">\n  <thead>\n    <tr style=\"text-align: right;\">\n      <th></th>\n      <th>count</th>\n      <th>%</th>\n    </tr>\n  </thead>\n  <tbody>\n    <tr>\n      <th>329</th>\n      <td>5</td>\n      <td>20.0</td>\n    </tr>\n    <tr>\n      <th>62</th>\n      <td>5</td>\n      <td>20.0</td>\n    </tr>\n    <tr>\n      <th>141</th>\n      <td>5</td>\n      <td>20.0</td>\n    </tr>\n    <tr>\n      <th>86</th>\n      <td>5</td>\n      <td>20.0</td>\n    </tr>\n    <tr>\n      <th>74</th>\n      <td>5</td>\n      <td>20.0</td>\n    </tr>\n    <tr>\n      <th>146</th>\n      <td>5</td>\n      <td>20.0</td>\n    </tr>\n    <tr>\n      <th>184</th>\n      <td>4</td>\n      <td>16.0</td>\n    </tr>\n    <tr>\n      <th>108</th>\n      <td>4</td>\n      <td>16.0</td>\n    </tr>\n    <tr>\n      <th>198</th>\n      <td>4</td>\n      <td>16.0</td>\n    </tr>\n    <tr>\n      <th>39</th>\n      <td>4</td>\n      <td>16.0</td>\n    </tr>\n  </tbody>\n</table>\n</div>"
     },
     "execution_count": 92,
     "metadata": {},
     "output_type": "execute_result"
    }
   ],
   "source": [
    "missing = pd.concat([ski_data.isnull().sum(axis=1), 100 * ski_data.isnull().mean(axis=1)], axis=1)\n",
    "missing.columns=['count', '%']\n",
    "missing.sort_values(by='count', ascending=False).head(10)"
   ]
  },
  {
   "cell_type": "markdown",
   "metadata": {},
   "source": [
    "These seem possibly curiously quantized..."
   ]
  },
  {
   "cell_type": "code",
   "execution_count": 93,
   "metadata": {
    "ExecuteTime": {
     "end_time": "2023-11-16T16:24:06.077233Z",
     "start_time": "2023-11-16T16:24:06.041040Z"
    }
   },
   "outputs": [
    {
     "data": {
      "text/plain": "array([ 0.,  4.,  8., 12., 16., 20.])"
     },
     "execution_count": 93,
     "metadata": {},
     "output_type": "execute_result"
    }
   ],
   "source": [
    "missing['%'].unique()"
   ]
  },
  {
   "cell_type": "markdown",
   "metadata": {},
   "source": [
    "Yes, the percentage of missing values per row appear in multiples of 4."
   ]
  },
  {
   "cell_type": "code",
   "execution_count": 94,
   "metadata": {
    "ExecuteTime": {
     "end_time": "2023-11-16T16:24:19.873704Z",
     "start_time": "2023-11-16T16:24:19.836209Z"
    }
   },
   "outputs": [
    {
     "data": {
      "text/plain": "0.0     107\n4.0      94\n8.0      45\n12.0     15\n16.0     10\n20.0      6\nName: %, dtype: int64"
     },
     "execution_count": 94,
     "metadata": {},
     "output_type": "execute_result"
    }
   ],
   "source": [
    "missing['%'].value_counts()"
   ]
  },
  {
   "cell_type": "markdown",
   "metadata": {},
   "source": [
    "This is almost as if values have been removed artificially... Nevertheless, what you don't know is how useful the missing features are in predicting ticket price. You shouldn't just drop rows that are missing several useless features."
   ]
  },
  {
   "cell_type": "code",
   "execution_count": 95,
   "metadata": {
    "ExecuteTime": {
     "end_time": "2023-11-16T16:24:25.071585Z",
     "start_time": "2023-11-16T16:24:25.049588Z"
    }
   },
   "outputs": [
    {
     "name": "stdout",
     "output_type": "stream",
     "text": [
      "<class 'pandas.core.frame.DataFrame'>\n",
      "Int64Index: 277 entries, 0 to 329\n",
      "Data columns (total 25 columns):\n",
      " #   Column             Non-Null Count  Dtype  \n",
      "---  ------             --------------  -----  \n",
      " 0   Name               277 non-null    object \n",
      " 1   Region             277 non-null    object \n",
      " 2   state              277 non-null    object \n",
      " 3   summit_elev        277 non-null    int64  \n",
      " 4   vertical_drop      277 non-null    int64  \n",
      " 5   base_elev          277 non-null    int64  \n",
      " 6   trams              277 non-null    int64  \n",
      " 7   fastSixes          277 non-null    int64  \n",
      " 8   fastQuads          277 non-null    int64  \n",
      " 9   quad               277 non-null    int64  \n",
      " 10  triple             277 non-null    int64  \n",
      " 11  double             277 non-null    int64  \n",
      " 12  surface            277 non-null    int64  \n",
      " 13  total_chairs       277 non-null    int64  \n",
      " 14  Runs               274 non-null    float64\n",
      " 15  TerrainParks       233 non-null    float64\n",
      " 16  LongestRun_mi      272 non-null    float64\n",
      " 17  SkiableTerrain_ac  275 non-null    float64\n",
      " 18  Snow Making_ac     240 non-null    float64\n",
      " 19  daysOpenLastYear   233 non-null    float64\n",
      " 20  yearsOpen          277 non-null    float64\n",
      " 21  averageSnowfall    268 non-null    float64\n",
      " 22  AdultWeekend       277 non-null    float64\n",
      " 23  projectedDaysOpen  236 non-null    float64\n",
      " 24  NightSkiing_ac     163 non-null    float64\n",
      "dtypes: float64(11), int64(11), object(3)\n",
      "memory usage: 56.3+ KB\n"
     ]
    }
   ],
   "source": [
    "ski_data.info()"
   ]
  },
  {
   "cell_type": "markdown",
   "metadata": {},
   "source": [
    "There are still some missing values, and it's good to be aware of this, but leave them as is for now."
   ]
  },
  {
   "cell_type": "markdown",
   "metadata": {},
   "source": [
    "## 2.12 Save data<a id='2.12_Save_data'></a>"
   ]
  },
  {
   "cell_type": "code",
   "execution_count": 96,
   "metadata": {
    "ExecuteTime": {
     "end_time": "2023-11-16T16:24:37.226016Z",
     "start_time": "2023-11-16T16:24:37.172739Z"
    }
   },
   "outputs": [
    {
     "data": {
      "text/plain": "(277, 25)"
     },
     "execution_count": 96,
     "metadata": {},
     "output_type": "execute_result"
    }
   ],
   "source": [
    "ski_data.shape"
   ]
  },
  {
   "cell_type": "markdown",
   "metadata": {},
   "source": [
    "Save this to your data directory, separately. Note that you were provided with the data in `raw_data` and you should saving derived data in a separate location. This guards against overwriting our original data."
   ]
  },
  {
   "cell_type": "code",
   "execution_count": 100,
   "metadata": {
    "ExecuteTime": {
     "end_time": "2023-11-16T16:27:13.456158Z",
     "start_time": "2023-11-16T16:27:13.421238Z"
    }
   },
   "outputs": [
    {
     "name": "stdout",
     "output_type": "stream",
     "text": [
      "Writing file.  \"../data/ski_data_cleaned.csv\"\n"
     ]
    }
   ],
   "source": [
    "# save the data to a new csv file\n",
    "datapath = '../data'\n",
    "save_file(ski_data, 'ski_data_cleaned.csv', datapath)"
   ]
  },
  {
   "cell_type": "code",
   "execution_count": 99,
   "metadata": {
    "ExecuteTime": {
     "end_time": "2023-11-16T16:25:50.479820Z",
     "start_time": "2023-11-16T16:25:50.464213Z"
    }
   },
   "outputs": [
    {
     "name": "stdout",
     "output_type": "stream",
     "text": [
      "Writing file.  \"../data/state_summary.csv\"\n"
     ]
    }
   ],
   "source": [
    "# save the state_summary separately.\n",
    "datapath = '../data'\n",
    "save_file(state_summary, 'state_summary.csv', datapath)"
   ]
  },
  {
   "cell_type": "markdown",
   "metadata": {},
   "source": [
    "## 2.13 Summary<a id='2.13_Summary'></a>"
   ]
  },
  {
   "cell_type": "markdown",
   "metadata": {},
   "source": [
    "**Q: 3** Write a summary statement that highlights the key processes and findings from this notebook. This should include information such as the original number of rows in the data, whether our own resort was actually present etc. What columns, if any, have been removed? Any rows? Summarise the reasons why. Were any other issues found? What remedial actions did you take? State where you are in the project. Can you confirm what the target feature is for your desire to predict ticket price? How many rows were left in the data? Hint: this is a great opportunity to reread your notebook, check all cells have been executed in order and from a \"blank slate\" (restarting the kernel will do this), and that your workflow makes sense and follows a logical pattern. As you do this you can pull out salient information for inclusion in this summary. Thus, this section will provide an important overview of \"what\" and \"why\" without having to dive into the \"how\" or any unproductive or inconclusive steps along the way."
   ]
  },
  {
   "cell_type": "markdown",
   "metadata": {},
   "source": [
    "**A: 3** Your answer here"
   ]
  }
 ],
 "metadata": {
  "kernelspec": {
   "display_name": "Python 3",
   "language": "python",
   "name": "python3"
  },
  "language_info": {
   "codemirror_mode": {
    "name": "ipython",
    "version": 3
   },
   "file_extension": ".py",
   "mimetype": "text/x-python",
   "name": "python",
   "nbconvert_exporter": "python",
   "pygments_lexer": "ipython3",
   "version": "3.7.4"
  },
  "toc": {
   "base_numbering": 1,
   "nav_menu": {},
   "number_sections": true,
   "sideBar": true,
   "skip_h1_title": false,
   "title_cell": "Table of Contents",
   "title_sidebar": "Contents",
   "toc_cell": false,
   "toc_position": {},
   "toc_section_display": true,
   "toc_window_display": true
  },
  "varInspector": {
   "cols": {
    "lenName": 16,
    "lenType": 16,
    "lenVar": 40
   },
   "kernels_config": {
    "python": {
     "delete_cmd_postfix": "",
     "delete_cmd_prefix": "del ",
     "library": "var_list.py",
     "varRefreshCmd": "print(var_dic_list())"
    },
    "r": {
     "delete_cmd_postfix": ") ",
     "delete_cmd_prefix": "rm(",
     "library": "var_list.r",
     "varRefreshCmd": "cat(var_dic_list()) "
    }
   },
   "types_to_exclude": [
    "module",
    "function",
    "builtin_function_or_method",
    "instance",
    "_Feature"
   ],
   "window_display": false
  }
 },
 "nbformat": 4,
 "nbformat_minor": 4
}
